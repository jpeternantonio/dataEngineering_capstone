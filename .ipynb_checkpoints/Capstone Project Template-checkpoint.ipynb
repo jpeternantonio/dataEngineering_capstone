{
 "cells": [
  {
   "cell_type": "markdown",
   "metadata": {
    "editable": true
   },
   "source": [
    "# Project Title\n",
    "### Data Engineering Capstone Project\n",
    "\n",
    "#### Project Summary\n",
    "The goal of this project was to create an ETL pipeline for I94 immigration, US demographics, and global land temperatures for analytics database on\n",
    "immigration events. To show male and female ratio, population and average temperature present on a specific city.\n",
    "\n",
    "The project follows the follow steps:\n",
    "* Step 1: Scope the Project and Gather Data\n",
    "* Step 2: Explore and Assess the Data\n",
    "* Step 3: Define the Data Model\n",
    "* Step 4: Run ETL to Model the Data\n",
    "* Step 5: Complete Project Write Up"
   ]
  },
  {
   "cell_type": "code",
   "execution_count": 1,
   "metadata": {
    "editable": true
   },
   "outputs": [],
   "source": [
    "import pandas as pd\n",
    "import seaborn as sns\n",
    "import matplotlib.pyplot as plt\n",
    "import os\n",
    "import re\n",
    "import configparser\n",
    "import datetime as dt\n",
    "\n",
    "from pyspark.sql import SparkSession\n",
    "from pyspark.sql.functions import avg\n",
    "from pyspark.sql import SQLContext\n",
    "from pyspark.sql.functions import isnan, when, count, col, udf, dayofmonth, dayofweek, month, year, weekofyear\n",
    "from pyspark.sql.functions import monotonically_increasing_id\n",
    "from pyspark.sql.types import *\n"
   ]
  },
  {
   "cell_type": "markdown",
   "metadata": {
    "editable": true
   },
   "source": [
    "### Step 1: Scope the Project and Gather Data\n",
    "\n",
    "#### Scope \n",
    "In order to create our analytics database, we must use the following steps:\n",
    "* Use spark to read and load the data into dataframes.\n",
    "* Check for missing values of I94 immigration, demographics, and global land temperatures dataset.\n",
    "* Perform data cleaning on them.\n",
    "* Create dimension tables.\n",
    "    * Create immigration table from I94 immigration dataset, this will be link to fact table through valid 194port.\n",
    "    * Create temperature table from temperature dataset, this will be link to fact table through valid I94port also.\n",
    "    * Create demographic table from demographic dataset, this will be link to fact table through city.\n",
    "* Create fact table from I94 immigration dataset\n",
    "* Create another fact table from demographic dataset.\n",
    "\n",
    "We used <b>Spark</b> to process these data.\n",
    "    \n",
    "\n",
    "#### Describe and Gather Data \n",
    "The data comes from the US National Tourism and Trade Office. The project data is in a folder located at ../../data/18-83510-I94-Data-2016/. The immigration data\n",
    "is an SAS binary database storage format <i>sas7bdat</i>. We use the month of August for this project. However, the program was designed to work with any month's worth data."
   ]
  },
  {
   "cell_type": "code",
   "execution_count": 2,
   "metadata": {
    "editable": true
   },
   "outputs": [],
   "source": [
    "# Create Spark Session\n",
    "spark = SparkSession.builder.\\\n",
    "config(\"spark.jars.packages\",\"saurfang:spark-sas7bdat:2.0.0-s_2.11\")\\\n",
    ".enableHiveSupport().getOrCreate()"
   ]
  },
  {
   "cell_type": "code",
   "execution_count": 3,
   "metadata": {
    "editable": true
   },
   "outputs": [],
   "source": [
    "# Read in the data here\n",
    "fname = '../../data/18-83510-I94-Data-2016/i94_aug16_sub.sas7bdat'\n",
    "df_immigration = spark.read.format('com.github.saurfang.sas.spark').load(fname)"
   ]
  },
  {
   "cell_type": "code",
   "execution_count": 4,
   "metadata": {
    "editable": true
   },
   "outputs": [
    {
     "data": {
      "text/html": [
       "<div>\n",
       "<style scoped>\n",
       "    .dataframe tbody tr th:only-of-type {\n",
       "        vertical-align: middle;\n",
       "    }\n",
       "\n",
       "    .dataframe tbody tr th {\n",
       "        vertical-align: top;\n",
       "    }\n",
       "\n",
       "    .dataframe thead th {\n",
       "        text-align: right;\n",
       "    }\n",
       "</style>\n",
       "<table border=\"1\" class=\"dataframe\">\n",
       "  <thead>\n",
       "    <tr style=\"text-align: right;\">\n",
       "      <th></th>\n",
       "      <th>cicid</th>\n",
       "      <th>i94yr</th>\n",
       "      <th>i94mon</th>\n",
       "      <th>i94cit</th>\n",
       "      <th>i94res</th>\n",
       "      <th>i94port</th>\n",
       "      <th>arrdate</th>\n",
       "      <th>i94mode</th>\n",
       "      <th>i94addr</th>\n",
       "      <th>depdate</th>\n",
       "      <th>...</th>\n",
       "      <th>entdepu</th>\n",
       "      <th>matflag</th>\n",
       "      <th>biryear</th>\n",
       "      <th>dtaddto</th>\n",
       "      <th>gender</th>\n",
       "      <th>insnum</th>\n",
       "      <th>airline</th>\n",
       "      <th>admnum</th>\n",
       "      <th>fltno</th>\n",
       "      <th>visatype</th>\n",
       "    </tr>\n",
       "  </thead>\n",
       "  <tbody>\n",
       "    <tr>\n",
       "      <th>0</th>\n",
       "      <td>22.0</td>\n",
       "      <td>2016.0</td>\n",
       "      <td>8.0</td>\n",
       "      <td>323.0</td>\n",
       "      <td>323.0</td>\n",
       "      <td>NYC</td>\n",
       "      <td>20667.0</td>\n",
       "      <td>1.0</td>\n",
       "      <td>FL</td>\n",
       "      <td>NaN</td>\n",
       "      <td>...</td>\n",
       "      <td>None</td>\n",
       "      <td>None</td>\n",
       "      <td>1993.0</td>\n",
       "      <td>D/S</td>\n",
       "      <td>M</td>\n",
       "      <td>None</td>\n",
       "      <td>EK</td>\n",
       "      <td>6.451050e+10</td>\n",
       "      <td>201</td>\n",
       "      <td>F1</td>\n",
       "    </tr>\n",
       "    <tr>\n",
       "      <th>1</th>\n",
       "      <td>55.0</td>\n",
       "      <td>2016.0</td>\n",
       "      <td>8.0</td>\n",
       "      <td>209.0</td>\n",
       "      <td>209.0</td>\n",
       "      <td>AGA</td>\n",
       "      <td>20667.0</td>\n",
       "      <td>1.0</td>\n",
       "      <td>CA</td>\n",
       "      <td>NaN</td>\n",
       "      <td>...</td>\n",
       "      <td>None</td>\n",
       "      <td>None</td>\n",
       "      <td>1975.0</td>\n",
       "      <td>09142016</td>\n",
       "      <td>M</td>\n",
       "      <td>3955</td>\n",
       "      <td>JL</td>\n",
       "      <td>5.757187e+10</td>\n",
       "      <td>00941</td>\n",
       "      <td>GMT</td>\n",
       "    </tr>\n",
       "    <tr>\n",
       "      <th>2</th>\n",
       "      <td>56.0</td>\n",
       "      <td>2016.0</td>\n",
       "      <td>8.0</td>\n",
       "      <td>209.0</td>\n",
       "      <td>209.0</td>\n",
       "      <td>AGA</td>\n",
       "      <td>20667.0</td>\n",
       "      <td>1.0</td>\n",
       "      <td>GU</td>\n",
       "      <td>NaN</td>\n",
       "      <td>...</td>\n",
       "      <td>None</td>\n",
       "      <td>None</td>\n",
       "      <td>1992.0</td>\n",
       "      <td>09152016</td>\n",
       "      <td>F</td>\n",
       "      <td>3661</td>\n",
       "      <td>UA</td>\n",
       "      <td>5.757189e+10</td>\n",
       "      <td>00874</td>\n",
       "      <td>GMT</td>\n",
       "    </tr>\n",
       "    <tr>\n",
       "      <th>3</th>\n",
       "      <td>61.0</td>\n",
       "      <td>2016.0</td>\n",
       "      <td>8.0</td>\n",
       "      <td>213.0</td>\n",
       "      <td>213.0</td>\n",
       "      <td>CHI</td>\n",
       "      <td>20667.0</td>\n",
       "      <td>1.0</td>\n",
       "      <td>WA</td>\n",
       "      <td>20774.0</td>\n",
       "      <td>...</td>\n",
       "      <td>None</td>\n",
       "      <td>M</td>\n",
       "      <td>1989.0</td>\n",
       "      <td>D/S</td>\n",
       "      <td>M</td>\n",
       "      <td>None</td>\n",
       "      <td>UA</td>\n",
       "      <td>5.905919e+10</td>\n",
       "      <td>906</td>\n",
       "      <td>F1</td>\n",
       "    </tr>\n",
       "    <tr>\n",
       "      <th>4</th>\n",
       "      <td>64.0</td>\n",
       "      <td>2016.0</td>\n",
       "      <td>8.0</td>\n",
       "      <td>111.0</td>\n",
       "      <td>111.0</td>\n",
       "      <td>BOS</td>\n",
       "      <td>20667.0</td>\n",
       "      <td>1.0</td>\n",
       "      <td>MS</td>\n",
       "      <td>20670.0</td>\n",
       "      <td>...</td>\n",
       "      <td>None</td>\n",
       "      <td>M</td>\n",
       "      <td>1982.0</td>\n",
       "      <td>08242016</td>\n",
       "      <td>F</td>\n",
       "      <td>32572</td>\n",
       "      <td>QK</td>\n",
       "      <td>6.104309e+10</td>\n",
       "      <td>8456</td>\n",
       "      <td>WT</td>\n",
       "    </tr>\n",
       "  </tbody>\n",
       "</table>\n",
       "<p>5 rows × 28 columns</p>\n",
       "</div>"
      ],
      "text/plain": [
       "   cicid   i94yr  i94mon  i94cit  i94res i94port  arrdate  i94mode i94addr  \\\n",
       "0   22.0  2016.0     8.0   323.0   323.0     NYC  20667.0      1.0      FL   \n",
       "1   55.0  2016.0     8.0   209.0   209.0     AGA  20667.0      1.0      CA   \n",
       "2   56.0  2016.0     8.0   209.0   209.0     AGA  20667.0      1.0      GU   \n",
       "3   61.0  2016.0     8.0   213.0   213.0     CHI  20667.0      1.0      WA   \n",
       "4   64.0  2016.0     8.0   111.0   111.0     BOS  20667.0      1.0      MS   \n",
       "\n",
       "   depdate   ...     entdepu  matflag  biryear   dtaddto gender insnum  \\\n",
       "0      NaN   ...        None     None   1993.0       D/S      M   None   \n",
       "1      NaN   ...        None     None   1975.0  09142016      M   3955   \n",
       "2      NaN   ...        None     None   1992.0  09152016      F   3661   \n",
       "3  20774.0   ...        None        M   1989.0       D/S      M   None   \n",
       "4  20670.0   ...        None        M   1982.0  08242016      F  32572   \n",
       "\n",
       "  airline        admnum  fltno visatype  \n",
       "0      EK  6.451050e+10    201       F1  \n",
       "1      JL  5.757187e+10  00941      GMT  \n",
       "2      UA  5.757189e+10  00874      GMT  \n",
       "3      UA  5.905919e+10    906       F1  \n",
       "4      QK  6.104309e+10   8456       WT  \n",
       "\n",
       "[5 rows x 28 columns]"
      ]
     },
     "execution_count": 4,
     "metadata": {},
     "output_type": "execute_result"
    }
   ],
   "source": [
    "df_immigration.limit(5).toPandas()"
   ]
  },
  {
   "cell_type": "markdown",
   "metadata": {
    "editable": true
   },
   "source": [
    "<b><i>Data dictionary</i></b>\n",
    "\n",
    "<table class=\"tg\" align=\"left\">\n",
    "  <tr>\n",
    "    <th class=\"tg-0pky\">Feature</th>\n",
    "    <th class=\"tg-0pky\">Description</th>\n",
    "  </tr>\n",
    " <tr><td class=\"tg-0pky\">cicid</td><td class=\"tg-0pky\">Unique record ID</td>\n",
    " <tr><td class=\"tg-0pky\">i94yr</td><td class=\"tg-0pky\">4 digit year</td>\n",
    " <tr><td class=\"tg-0pky\">i94mon</td><td class=\"tg-0pky\">Numeric month</td>\n",
    " <tr><td class=\"tg-0pky\">i94cit</td><td class=\"tg-0pky\">3 digit code for immigrant country of birth</td>\n",
    " <tr><td class=\"tg-0pky\">i94res</td><td class=\"tg-0pky\">3 digit code for immigrant country of residence </td>\n",
    " <tr><td class=\"tg-0pky\">i94port</td><td class=\"tg-0pky\">Port of admission</td>\n",
    " <tr><td class=\"tg-0pky\">arrdate</td><td class=\"tg-0pky\">Arrival Date in the USA</td>\n",
    " <tr><td class=\"tg-0pky\">i94mode</td><td class=\"tg-0pky\">Mode of transportation (1 = Air; 2 = Sea; 3 = Land; 9 = Not reported)</td>\n",
    " <tr><td class=\"tg-0pky\">i94addr</td><td class=\"tg-0pky\">USA State of arrival</td>\n",
    " <tr><td class=\"tg-0pky\">depdate</td><td class=\"tg-0pky\">Departure Date from the USA</td>\n",
    " <tr><td class=\"tg-0pky\">i94bir</td><td class=\"tg-0pky\">Age of Respondent in Years</td>\n",
    " <tr><td class=\"tg-0pky\">i94visa</td><td class=\"tg-0pky\">Visa codes collapsed into three categories</td>\n",
    " <tr><td class=\"tg-0pky\">count</td><td class=\"tg-0pky\">Field used for summary statistics</td>\n",
    " <tr><td class=\"tg-0pky\">dtadfile</td><td class=\"tg-0pky\">Character Date Field - Date added to I-94 Files</td>\n",
    " <tr><td class=\"tg-0pky\">visapost</td><td class=\"tg-0pky\">Department of State where where Visa was issued </td>\n",
    " <tr><td class=\"tg-0pky\">occup</td><td class=\"tg-0pky\">Occupation that will be performed in U.S</td>\n",
    " <tr><td class=\"tg-0pky\">entdepa</td><td class=\"tg-0pky\">Arrival Flag - admitted or paroled into the U.S.</td>\n",
    " <tr><td class=\"tg-0pky\">entdepd</td><td class=\"tg-0pky\">Departure Flag - Departed, lost I-94 or is deceased</td>\n",
    " <tr><td class=\"tg-0pky\">entdepu</td><td class=\"tg-0pky\">Update Flag - Either apprehended, overstayed, adjusted to perm residence</td>\n",
    " <tr><td class=\"tg-0pky\">matflag</td><td class=\"tg-0pky\">Match flag - Match of arrival and departure records</td>\n",
    " <tr><td class=\"tg-0pky\">biryear</td><td class=\"tg-0pky\">4 digit year of birth</td>\n",
    " <tr><td class=\"tg-0pky\">dtaddto</td><td class=\"tg-0pky\">Character Date Field - Date to which admitted to U.S. (allowed to stay until)</td>\n",
    " <tr><td class=\"tg-0pky\">gender</td><td class=\"tg-0pky\">Non-immigrant sex</td>\n",
    " <tr><td class=\"tg-0pky\">insnum</td><td class=\"tg-0pky\">INS number</td>\n",
    " <tr><td class=\"tg-0pky\">airline</td><td class=\"tg-0pky\">Airline used to arrive in U.S.</td>\n",
    " <tr><td class=\"tg-0pky\">admnum</td><td class=\"tg-0pky\">Admission Number</td>\n",
    " <tr><td class=\"tg-0pky\">fltno</td><td class=\"tg-0pky\">Flight number of Airline used to arrive in U.S.</td>\n",
    " <tr><td class=\"tg-0pky\">visatype</td><td class=\"tg-0pky\">Class of admission legally admitting the non-immigrant to temporarily stay in U.S.</td>\n",
    "</table>"
   ]
  },
  {
   "cell_type": "code",
   "execution_count": 5,
   "metadata": {
    "editable": true
   },
   "outputs": [
    {
     "name": "stdout",
     "output_type": "stream",
     "text": [
      "4,103,570\n"
     ]
    }
   ],
   "source": [
    "print('{:,}'.format(df_immigration.count()))"
   ]
  },
  {
   "cell_type": "code",
   "execution_count": 6,
   "metadata": {
    "editable": true
   },
   "outputs": [
    {
     "name": "stdout",
     "output_type": "stream",
     "text": [
      "+-------------------+------------------+-----------------------------+-----+-------+--------+---------+\n",
      "|                 dt|AverageTemperature|AverageTemperatureUncertainty| City|Country|Latitude|Longitude|\n",
      "+-------------------+------------------+-----------------------------+-----+-------+--------+---------+\n",
      "|1743-11-01 00:00:00|             6.068|           1.7369999999999999|Århus|Denmark|  57.05N|   10.33E|\n",
      "|1743-12-01 00:00:00|              null|                         null|Århus|Denmark|  57.05N|   10.33E|\n",
      "|1744-01-01 00:00:00|              null|                         null|Århus|Denmark|  57.05N|   10.33E|\n",
      "|1744-02-01 00:00:00|              null|                         null|Århus|Denmark|  57.05N|   10.33E|\n",
      "|1744-03-01 00:00:00|              null|                         null|Århus|Denmark|  57.05N|   10.33E|\n",
      "+-------------------+------------------+-----------------------------+-----+-------+--------+---------+\n",
      "only showing top 5 rows\n",
      "\n"
     ]
    }
   ],
   "source": [
    "# Getting Temperature data \n",
    "temperature_data = '../../data2/GlobalLandTemperaturesByCity.csv'\n",
    "df_temp = spark.read.csv(temperature_data, header=True, inferSchema=True)\n",
    "df_temp.show(5)"
   ]
  },
  {
   "cell_type": "markdown",
   "metadata": {
    "editable": true
   },
   "source": [
    "<b><i>Data dictionary</i></b>\n",
    "\n",
    "<table class=\"tg\" align=\"left\">\n",
    "  <tr>\n",
    "    <th class=\"tg-0pky\">Feature</th>\n",
    "    <th class=\"tg-0pky\">Description</th>\n",
    "  </tr>\n",
    " <tr><td class=\"tg-0pky\">dt</td><td class=\"tg-0pky\">Date</td>\n",
    " <tr><td class=\"tg-0pky\">AverageTemperature</td><td class=\"tg-0pky\">Global average land temperature in celsius</td>\n",
    " <tr><td class=\"tg-0pky\">AverageTemperatureUncertainty</td><td class=\"tg-0pky\">95% confidence interval around the average</td>\n",
    " <tr><td class=\"tg-0pky\">City</td><td class=\"tg-0pky\">Name of City</td>\n",
    " <tr><td class=\"tg-0pky\">Country</td><td class=\"tg-0pky\">Name of Country</td>\n",
    " <tr><td class=\"tg-0pky\">Latitude</td><td class=\"tg-0pky\">City Latitude</td>\n",
    " <tr><td class=\"tg-0pky\">Longitude</td><td class=\"tg-0pky\">City Longitude</td>\n",
    "</table>"
   ]
  },
  {
   "cell_type": "code",
   "execution_count": 7,
   "metadata": {
    "editable": true
   },
   "outputs": [
    {
     "name": "stdout",
     "output_type": "stream",
     "text": [
      "8,599,212\n"
     ]
    }
   ],
   "source": [
    "print('{:,}'.format(df_temp.count()))"
   ]
  },
  {
   "cell_type": "code",
   "execution_count": 8,
   "metadata": {
    "editable": true
   },
   "outputs": [
    {
     "name": "stdout",
     "output_type": "stream",
     "text": [
      "+----------------+-------------+----------+---------------+-----------------+----------------+------------------+------------+----------------------+----------+--------------------+-----+\n",
      "|            City|        State|Median Age|Male Population|Female Population|Total Population|Number of Veterans|Foreign-born|Average Household Size|State Code|                Race|Count|\n",
      "+----------------+-------------+----------+---------------+-----------------+----------------+------------------+------------+----------------------+----------+--------------------+-----+\n",
      "|   Silver Spring|     Maryland|      33.8|          40601|            41862|           82463|              1562|       30908|                   2.6|        MD|  Hispanic or Latino|25924|\n",
      "|          Quincy|Massachusetts|      41.0|          44129|            49500|           93629|              4147|       32935|                  2.39|        MA|               White|58723|\n",
      "|          Hoover|      Alabama|      38.5|          38040|            46799|           84839|              4819|        8229|                  2.58|        AL|               Asian| 4759|\n",
      "|Rancho Cucamonga|   California|      34.5|          88127|            87105|          175232|              5821|       33878|                  3.18|        CA|Black or African-...|24437|\n",
      "|          Newark|   New Jersey|      34.6|         138040|           143873|          281913|              5829|       86253|                  2.73|        NJ|               White|76402|\n",
      "+----------------+-------------+----------+---------------+-----------------+----------------+------------------+------------+----------------------+----------+--------------------+-----+\n",
      "only showing top 5 rows\n",
      "\n"
     ]
    }
   ],
   "source": [
    "# Read demographic data \n",
    "path = 'us-cities-demographics.csv'\n",
    "df_demographic = spark.read.csv(path, header=True, inferSchema=True, sep=';')\n",
    "df_demographic.show(5)"
   ]
  },
  {
   "cell_type": "markdown",
   "metadata": {
    "editable": true
   },
   "source": [
    "<b><i>Data dictionary</i></b>\n",
    "\n",
    "<table class=\"tg\" align=\"left\">\n",
    "  <tr>\n",
    "    <th class=\"tg-0pky\">Feature</th>\n",
    "    <th class=\"tg-0pky\">Description</th>\n",
    "  </tr>\n",
    " <tr><td class=\"tg-0pky\">City</td><td class=\"tg-0pky\">City Name</td>\n",
    " <tr><td class=\"tg-0pky\">State</td><td class=\"tg-0pky\">US State where city is located</td>\n",
    " <tr><td class=\"tg-0pky\">Median Age</td><td class=\"tg-0pky\">Median age of the population</td>\n",
    " <tr><td class=\"tg-0pky\">Male Population</td><td class=\"tg-0pky\">Count of male population</td>\n",
    " <tr><td class=\"tg-0pky\">Female Population</td><td class=\"tg-0pky\">Count of female population</td>\n",
    " <tr><td class=\"tg-0pky\">Total Population</td><td class=\"tg-0pky\">Count of total population</td>\n",
    " <tr><td class=\"tg-0pky\">Number of Veterans</td><td class=\"tg-0pky\">Count of total Veterans</td>\n",
    " <tr><td class=\"tg-0pky\">Foreign born</td><td class=\"tg-0pky\">Count of residents of the city that were not born in the city</td>\n",
    " <tr><td class=\"tg-0pky\">Average Household Size</td><td class=\"tg-0pky\">Average city household size</td>\n",
    " <tr><td class=\"tg-0pky\">State Code</td><td class=\"tg-0pky\">Code of the US state</td>\n",
    " <tr><td class=\"tg-0pky\">Race</td><td class=\"tg-0pky\">Respondent race</td>\n",
    " <tr><td class=\"tg-0pky\">Count</td><td class=\"tg-0pky\">Count of city's individual per race</td>\n",
    "</table>"
   ]
  },
  {
   "cell_type": "markdown",
   "metadata": {
    "editable": true
   },
   "source": [
    "### Step 2: Explore and Assess the Data\n",
    "#### Explore the Data \n",
    "Identify data quality issues, like missing values, duplicate data, etc.\n",
    "\n",
    "#### Cleaning Steps\n",
    "Document steps necessary to clean the data"
   ]
  },
  {
   "cell_type": "code",
   "execution_count": 9,
   "metadata": {
    "editable": true
   },
   "outputs": [
    {
     "data": {
      "text/plain": [
       "['i94_apr16_sub.sas7bdat',\n",
       " 'i94_sep16_sub.sas7bdat',\n",
       " 'i94_nov16_sub.sas7bdat',\n",
       " 'i94_mar16_sub.sas7bdat',\n",
       " 'i94_jun16_sub.sas7bdat',\n",
       " 'i94_aug16_sub.sas7bdat',\n",
       " 'i94_may16_sub.sas7bdat',\n",
       " 'i94_jan16_sub.sas7bdat',\n",
       " 'i94_oct16_sub.sas7bdat',\n",
       " 'i94_jul16_sub.sas7bdat',\n",
       " 'i94_feb16_sub.sas7bdat',\n",
       " 'i94_dec16_sub.sas7bdat']"
      ]
     },
     "execution_count": 9,
     "metadata": {},
     "output_type": "execute_result"
    }
   ],
   "source": [
    "# Check all files in data repository\n",
    "data_files = os.listdir('../../data/18-83510-I94-Data-2016/')\n",
    "data_files"
   ]
  },
  {
   "cell_type": "code",
   "execution_count": 10,
   "metadata": {
    "editable": true
   },
   "outputs": [],
   "source": [
    "# Performing cleaning tasks here\n",
    "def check_missing_values(df):\n",
    "    \"\"\"\n",
    "    This function checks null values in a dataframe\n",
    "    param: df or the dataframe\n",
    "    return:\n",
    "        nan_count_df - list of columns, values, and percentage of missing values\n",
    "    \"\"\"\n",
    "     # create a dataframe with missing values count per column\n",
    "    nan_count_df = df.select([count(when(isnan(c) | col(c).isNull(), c)).alias(c) for c in df.columns]).toPandas()\n",
    "    \n",
    "    # convert dataframe from wide format to long format\n",
    "    nan_count_df = pd.melt(nan_count_df, var_name='cols', value_name='values')\n",
    "    \n",
    "    # count total records in df\n",
    "    total = df.count()\n",
    "    \n",
    "    # now lets add % missing values column\n",
    "    nan_count_df['% missing values'] = 100*nan_count_df['values']/total\n",
    "    return nan_count_df"
   ]
  },
  {
   "cell_type": "code",
   "execution_count": 11,
   "metadata": {
    "editable": true
   },
   "outputs": [
    {
     "data": {
      "text/html": [
       "<div>\n",
       "<style scoped>\n",
       "    .dataframe tbody tr th:only-of-type {\n",
       "        vertical-align: middle;\n",
       "    }\n",
       "\n",
       "    .dataframe tbody tr th {\n",
       "        vertical-align: top;\n",
       "    }\n",
       "\n",
       "    .dataframe thead th {\n",
       "        text-align: right;\n",
       "    }\n",
       "</style>\n",
       "<table border=\"1\" class=\"dataframe\">\n",
       "  <thead>\n",
       "    <tr style=\"text-align: right;\">\n",
       "      <th></th>\n",
       "      <th>cols</th>\n",
       "      <th>values</th>\n",
       "      <th>% missing values</th>\n",
       "    </tr>\n",
       "  </thead>\n",
       "  <tbody>\n",
       "    <tr>\n",
       "      <th>0</th>\n",
       "      <td>cicid</td>\n",
       "      <td>0</td>\n",
       "      <td>0.000000</td>\n",
       "    </tr>\n",
       "    <tr>\n",
       "      <th>1</th>\n",
       "      <td>i94yr</td>\n",
       "      <td>0</td>\n",
       "      <td>0.000000</td>\n",
       "    </tr>\n",
       "    <tr>\n",
       "      <th>2</th>\n",
       "      <td>i94mon</td>\n",
       "      <td>0</td>\n",
       "      <td>0.000000</td>\n",
       "    </tr>\n",
       "    <tr>\n",
       "      <th>3</th>\n",
       "      <td>i94cit</td>\n",
       "      <td>6142</td>\n",
       "      <td>0.149675</td>\n",
       "    </tr>\n",
       "    <tr>\n",
       "      <th>4</th>\n",
       "      <td>i94res</td>\n",
       "      <td>0</td>\n",
       "      <td>0.000000</td>\n",
       "    </tr>\n",
       "    <tr>\n",
       "      <th>5</th>\n",
       "      <td>i94port</td>\n",
       "      <td>0</td>\n",
       "      <td>0.000000</td>\n",
       "    </tr>\n",
       "    <tr>\n",
       "      <th>6</th>\n",
       "      <td>arrdate</td>\n",
       "      <td>0</td>\n",
       "      <td>0.000000</td>\n",
       "    </tr>\n",
       "    <tr>\n",
       "      <th>7</th>\n",
       "      <td>i94mode</td>\n",
       "      <td>1884</td>\n",
       "      <td>0.045911</td>\n",
       "    </tr>\n",
       "    <tr>\n",
       "      <th>8</th>\n",
       "      <td>i94addr</td>\n",
       "      <td>184462</td>\n",
       "      <td>4.495159</td>\n",
       "    </tr>\n",
       "    <tr>\n",
       "      <th>9</th>\n",
       "      <td>depdate</td>\n",
       "      <td>651788</td>\n",
       "      <td>15.883438</td>\n",
       "    </tr>\n",
       "    <tr>\n",
       "      <th>10</th>\n",
       "      <td>i94bir</td>\n",
       "      <td>816</td>\n",
       "      <td>0.019885</td>\n",
       "    </tr>\n",
       "    <tr>\n",
       "      <th>11</th>\n",
       "      <td>i94visa</td>\n",
       "      <td>0</td>\n",
       "      <td>0.000000</td>\n",
       "    </tr>\n",
       "    <tr>\n",
       "      <th>12</th>\n",
       "      <td>count</td>\n",
       "      <td>0</td>\n",
       "      <td>0.000000</td>\n",
       "    </tr>\n",
       "    <tr>\n",
       "      <th>13</th>\n",
       "      <td>dtadfile</td>\n",
       "      <td>0</td>\n",
       "      <td>0.000000</td>\n",
       "    </tr>\n",
       "    <tr>\n",
       "      <th>14</th>\n",
       "      <td>visapost</td>\n",
       "      <td>2378159</td>\n",
       "      <td>57.953416</td>\n",
       "    </tr>\n",
       "    <tr>\n",
       "      <th>15</th>\n",
       "      <td>occup</td>\n",
       "      <td>4061341</td>\n",
       "      <td>98.970920</td>\n",
       "    </tr>\n",
       "    <tr>\n",
       "      <th>16</th>\n",
       "      <td>entdepa</td>\n",
       "      <td>18</td>\n",
       "      <td>0.000439</td>\n",
       "    </tr>\n",
       "    <tr>\n",
       "      <th>17</th>\n",
       "      <td>entdepd</td>\n",
       "      <td>639255</td>\n",
       "      <td>15.578021</td>\n",
       "    </tr>\n",
       "    <tr>\n",
       "      <th>18</th>\n",
       "      <td>entdepu</td>\n",
       "      <td>4099524</td>\n",
       "      <td>99.901403</td>\n",
       "    </tr>\n",
       "    <tr>\n",
       "      <th>19</th>\n",
       "      <td>matflag</td>\n",
       "      <td>637603</td>\n",
       "      <td>15.537763</td>\n",
       "    </tr>\n",
       "    <tr>\n",
       "      <th>20</th>\n",
       "      <td>biryear</td>\n",
       "      <td>816</td>\n",
       "      <td>0.019885</td>\n",
       "    </tr>\n",
       "    <tr>\n",
       "      <th>21</th>\n",
       "      <td>dtaddto</td>\n",
       "      <td>5458</td>\n",
       "      <td>0.133006</td>\n",
       "    </tr>\n",
       "    <tr>\n",
       "      <th>22</th>\n",
       "      <td>gender</td>\n",
       "      <td>233112</td>\n",
       "      <td>5.680712</td>\n",
       "    </tr>\n",
       "    <tr>\n",
       "      <th>23</th>\n",
       "      <td>insnum</td>\n",
       "      <td>3573888</td>\n",
       "      <td>87.092166</td>\n",
       "    </tr>\n",
       "    <tr>\n",
       "      <th>24</th>\n",
       "      <td>airline</td>\n",
       "      <td>145501</td>\n",
       "      <td>3.545718</td>\n",
       "    </tr>\n",
       "    <tr>\n",
       "      <th>25</th>\n",
       "      <td>admnum</td>\n",
       "      <td>0</td>\n",
       "      <td>0.000000</td>\n",
       "    </tr>\n",
       "    <tr>\n",
       "      <th>26</th>\n",
       "      <td>fltno</td>\n",
       "      <td>23238</td>\n",
       "      <td>0.566287</td>\n",
       "    </tr>\n",
       "    <tr>\n",
       "      <th>27</th>\n",
       "      <td>visatype</td>\n",
       "      <td>0</td>\n",
       "      <td>0.000000</td>\n",
       "    </tr>\n",
       "  </tbody>\n",
       "</table>\n",
       "</div>"
      ],
      "text/plain": [
       "        cols   values  % missing values\n",
       "0      cicid        0          0.000000\n",
       "1      i94yr        0          0.000000\n",
       "2     i94mon        0          0.000000\n",
       "3     i94cit     6142          0.149675\n",
       "4     i94res        0          0.000000\n",
       "5    i94port        0          0.000000\n",
       "6    arrdate        0          0.000000\n",
       "7    i94mode     1884          0.045911\n",
       "8    i94addr   184462          4.495159\n",
       "9    depdate   651788         15.883438\n",
       "10    i94bir      816          0.019885\n",
       "11   i94visa        0          0.000000\n",
       "12     count        0          0.000000\n",
       "13  dtadfile        0          0.000000\n",
       "14  visapost  2378159         57.953416\n",
       "15     occup  4061341         98.970920\n",
       "16   entdepa       18          0.000439\n",
       "17   entdepd   639255         15.578021\n",
       "18   entdepu  4099524         99.901403\n",
       "19   matflag   637603         15.537763\n",
       "20   biryear      816          0.019885\n",
       "21   dtaddto     5458          0.133006\n",
       "22    gender   233112          5.680712\n",
       "23    insnum  3573888         87.092166\n",
       "24   airline   145501          3.545718\n",
       "25    admnum        0          0.000000\n",
       "26     fltno    23238          0.566287\n",
       "27  visatype        0          0.000000"
      ]
     },
     "execution_count": 11,
     "metadata": {},
     "output_type": "execute_result"
    }
   ],
   "source": [
    "check_missing_values(df_immigration)"
   ]
  },
  {
   "cell_type": "code",
   "execution_count": 12,
   "metadata": {
    "editable": true
   },
   "outputs": [
    {
     "name": "stdout",
     "output_type": "stream",
     "text": [
      "root\n",
      " |-- cicid: double (nullable = true)\n",
      " |-- i94yr: double (nullable = true)\n",
      " |-- i94mon: double (nullable = true)\n",
      " |-- i94cit: double (nullable = true)\n",
      " |-- i94res: double (nullable = true)\n",
      " |-- i94port: string (nullable = true)\n",
      " |-- arrdate: double (nullable = true)\n",
      " |-- i94mode: double (nullable = true)\n",
      " |-- i94addr: string (nullable = true)\n",
      " |-- depdate: double (nullable = true)\n",
      " |-- i94bir: double (nullable = true)\n",
      " |-- i94visa: double (nullable = true)\n",
      " |-- count: double (nullable = true)\n",
      " |-- dtadfile: string (nullable = true)\n",
      " |-- visapost: string (nullable = true)\n",
      " |-- occup: string (nullable = true)\n",
      " |-- entdepa: string (nullable = true)\n",
      " |-- entdepd: string (nullable = true)\n",
      " |-- entdepu: string (nullable = true)\n",
      " |-- matflag: string (nullable = true)\n",
      " |-- biryear: double (nullable = true)\n",
      " |-- dtaddto: string (nullable = true)\n",
      " |-- gender: string (nullable = true)\n",
      " |-- insnum: string (nullable = true)\n",
      " |-- airline: string (nullable = true)\n",
      " |-- admnum: double (nullable = true)\n",
      " |-- fltno: string (nullable = true)\n",
      " |-- visatype: string (nullable = true)\n",
      "\n"
     ]
    }
   ],
   "source": [
    "df_immigration.printSchema()"
   ]
  },
  {
   "cell_type": "code",
   "execution_count": 13,
   "metadata": {
    "editable": true
   },
   "outputs": [
    {
     "data": {
      "text/html": [
       "<div>\n",
       "<style scoped>\n",
       "    .dataframe tbody tr th:only-of-type {\n",
       "        vertical-align: middle;\n",
       "    }\n",
       "\n",
       "    .dataframe tbody tr th {\n",
       "        vertical-align: top;\n",
       "    }\n",
       "\n",
       "    .dataframe thead th {\n",
       "        text-align: right;\n",
       "    }\n",
       "</style>\n",
       "<table border=\"1\" class=\"dataframe\">\n",
       "  <thead>\n",
       "    <tr style=\"text-align: right;\">\n",
       "      <th></th>\n",
       "      <th>cols</th>\n",
       "      <th>values</th>\n",
       "      <th>% missing values</th>\n",
       "    </tr>\n",
       "  </thead>\n",
       "  <tbody>\n",
       "    <tr>\n",
       "      <th>0</th>\n",
       "      <td>dt</td>\n",
       "      <td>0</td>\n",
       "      <td>0.000000</td>\n",
       "    </tr>\n",
       "    <tr>\n",
       "      <th>1</th>\n",
       "      <td>AverageTemperature</td>\n",
       "      <td>364130</td>\n",
       "      <td>4.234458</td>\n",
       "    </tr>\n",
       "    <tr>\n",
       "      <th>2</th>\n",
       "      <td>AverageTemperatureUncertainty</td>\n",
       "      <td>364130</td>\n",
       "      <td>4.234458</td>\n",
       "    </tr>\n",
       "    <tr>\n",
       "      <th>3</th>\n",
       "      <td>City</td>\n",
       "      <td>0</td>\n",
       "      <td>0.000000</td>\n",
       "    </tr>\n",
       "    <tr>\n",
       "      <th>4</th>\n",
       "      <td>Country</td>\n",
       "      <td>0</td>\n",
       "      <td>0.000000</td>\n",
       "    </tr>\n",
       "    <tr>\n",
       "      <th>5</th>\n",
       "      <td>Latitude</td>\n",
       "      <td>0</td>\n",
       "      <td>0.000000</td>\n",
       "    </tr>\n",
       "    <tr>\n",
       "      <th>6</th>\n",
       "      <td>Longitude</td>\n",
       "      <td>0</td>\n",
       "      <td>0.000000</td>\n",
       "    </tr>\n",
       "  </tbody>\n",
       "</table>\n",
       "</div>"
      ],
      "text/plain": [
       "                            cols  values  % missing values\n",
       "0                             dt       0          0.000000\n",
       "1             AverageTemperature  364130          4.234458\n",
       "2  AverageTemperatureUncertainty  364130          4.234458\n",
       "3                           City       0          0.000000\n",
       "4                        Country       0          0.000000\n",
       "5                       Latitude       0          0.000000\n",
       "6                      Longitude       0          0.000000"
      ]
     },
     "execution_count": 13,
     "metadata": {},
     "output_type": "execute_result"
    }
   ],
   "source": [
    "df_temp = df_temp.withColumn(\"dt\",col(\"dt\").cast(StringType()))\n",
    "check_missing_values(df_temp)"
   ]
  },
  {
   "cell_type": "code",
   "execution_count": 14,
   "metadata": {
    "editable": true
   },
   "outputs": [
    {
     "name": "stdout",
     "output_type": "stream",
     "text": [
      "root\n",
      " |-- dt: string (nullable = true)\n",
      " |-- AverageTemperature: double (nullable = true)\n",
      " |-- AverageTemperatureUncertainty: double (nullable = true)\n",
      " |-- City: string (nullable = true)\n",
      " |-- Country: string (nullable = true)\n",
      " |-- Latitude: string (nullable = true)\n",
      " |-- Longitude: string (nullable = true)\n",
      "\n"
     ]
    }
   ],
   "source": [
    "df_temp.printSchema()"
   ]
  },
  {
   "cell_type": "code",
   "execution_count": 15,
   "metadata": {
    "editable": true
   },
   "outputs": [
    {
     "data": {
      "text/plain": [
       "8599212"
      ]
     },
     "execution_count": 15,
     "metadata": {},
     "output_type": "execute_result"
    }
   ],
   "source": [
    "df_temp.count()"
   ]
  },
  {
   "cell_type": "markdown",
   "metadata": {
    "editable": true
   },
   "source": [
    "Us-Cities-demographics"
   ]
  },
  {
   "cell_type": "code",
   "execution_count": 16,
   "metadata": {
    "editable": true
   },
   "outputs": [
    {
     "data": {
      "text/html": [
       "<div>\n",
       "<style scoped>\n",
       "    .dataframe tbody tr th:only-of-type {\n",
       "        vertical-align: middle;\n",
       "    }\n",
       "\n",
       "    .dataframe tbody tr th {\n",
       "        vertical-align: top;\n",
       "    }\n",
       "\n",
       "    .dataframe thead th {\n",
       "        text-align: right;\n",
       "    }\n",
       "</style>\n",
       "<table border=\"1\" class=\"dataframe\">\n",
       "  <thead>\n",
       "    <tr style=\"text-align: right;\">\n",
       "      <th></th>\n",
       "      <th>cols</th>\n",
       "      <th>values</th>\n",
       "      <th>% missing values</th>\n",
       "    </tr>\n",
       "  </thead>\n",
       "  <tbody>\n",
       "    <tr>\n",
       "      <th>3</th>\n",
       "      <td>Male Population</td>\n",
       "      <td>3</td>\n",
       "      <td>0.103770</td>\n",
       "    </tr>\n",
       "    <tr>\n",
       "      <th>4</th>\n",
       "      <td>Female Population</td>\n",
       "      <td>3</td>\n",
       "      <td>0.103770</td>\n",
       "    </tr>\n",
       "    <tr>\n",
       "      <th>6</th>\n",
       "      <td>Number of Veterans</td>\n",
       "      <td>13</td>\n",
       "      <td>0.449671</td>\n",
       "    </tr>\n",
       "    <tr>\n",
       "      <th>7</th>\n",
       "      <td>Foreign-born</td>\n",
       "      <td>13</td>\n",
       "      <td>0.449671</td>\n",
       "    </tr>\n",
       "    <tr>\n",
       "      <th>8</th>\n",
       "      <td>Average Household Size</td>\n",
       "      <td>16</td>\n",
       "      <td>0.553442</td>\n",
       "    </tr>\n",
       "  </tbody>\n",
       "</table>\n",
       "</div>"
      ],
      "text/plain": [
       "                     cols  values  % missing values\n",
       "3         Male Population       3          0.103770\n",
       "4       Female Population       3          0.103770\n",
       "6      Number of Veterans      13          0.449671\n",
       "7            Foreign-born      13          0.449671\n",
       "8  Average Household Size      16          0.553442"
      ]
     },
     "execution_count": 16,
     "metadata": {},
     "output_type": "execute_result"
    }
   ],
   "source": [
    "# View columns with missing data\n",
    "nulls_df = pd.DataFrame(data= df_demographic.toPandas().isnull().sum(), columns=['values'])\n",
    "nulls_df = nulls_df.reset_index()\n",
    "nulls_df.columns = ['cols', 'values']\n",
    "\n",
    "# calculate % missing values\n",
    "nulls_df['% missing values'] = 100*nulls_df['values']/df_demographic.count()\n",
    "nulls_df[nulls_df['% missing values']>0]"
   ]
  },
  {
   "cell_type": "code",
   "execution_count": 18,
   "metadata": {
    "editable": true
   },
   "outputs": [
    {
     "name": "stdout",
     "output_type": "stream",
     "text": [
      "root\n",
      " |-- City: string (nullable = true)\n",
      " |-- State: string (nullable = true)\n",
      " |-- Median Age: double (nullable = true)\n",
      " |-- Male Population: integer (nullable = true)\n",
      " |-- Female Population: integer (nullable = true)\n",
      " |-- Total Population: integer (nullable = true)\n",
      " |-- Number of Veterans: integer (nullable = true)\n",
      " |-- Foreign-born: integer (nullable = true)\n",
      " |-- Average Household Size: double (nullable = true)\n",
      " |-- State Code: string (nullable = true)\n",
      " |-- Race: string (nullable = true)\n",
      " |-- Count: integer (nullable = true)\n",
      "\n"
     ]
    }
   ],
   "source": [
    "df_demographic.printSchema()"
   ]
  },
  {
   "cell_type": "code",
   "execution_count": 19,
   "metadata": {
    "editable": true
   },
   "outputs": [
    {
     "data": {
      "text/plain": [
       "2891"
      ]
     },
     "execution_count": 19,
     "metadata": {},
     "output_type": "execute_result"
    }
   ],
   "source": [
    "df_demographic.count()"
   ]
  },
  {
   "cell_type": "markdown",
   "metadata": {
    "editable": true
   },
   "source": [
    "### Step 3: Define the Data Model\n",
    "#### 3.1 Conceptual Data Model\n",
    "Map out the conceptual data model and explain why you chose that model\n",
    "\n",
    "#### 3.2 Mapping Out Data Pipelines\n",
    "List the steps necessary to pipeline the data into the chosen data model"
   ]
  },
  {
   "cell_type": "code",
   "execution_count": null,
   "metadata": {
    "editable": true
   },
   "outputs": [],
   "source": []
  },
  {
   "cell_type": "code",
   "execution_count": null,
   "metadata": {
    "editable": true
   },
   "outputs": [],
   "source": []
  },
  {
   "cell_type": "code",
   "execution_count": null,
   "metadata": {
    "editable": true
   },
   "outputs": [],
   "source": []
  },
  {
   "cell_type": "code",
   "execution_count": null,
   "metadata": {
    "editable": true
   },
   "outputs": [],
   "source": []
  },
  {
   "cell_type": "markdown",
   "metadata": {
    "editable": true
   },
   "source": [
    "### Step 4: Run Pipelines to Model the Data \n",
    "#### 4.1 Create the data model\n",
    "Build the data pipelines to create the data model."
   ]
  },
  {
   "cell_type": "code",
   "execution_count": 20,
   "metadata": {
    "editable": true
   },
   "outputs": [],
   "source": [
    "# Path to I94 immigration data \n",
    "# Here only april data is loaded but we can load whole millions of data using \n",
    "# path = '../../data/18-83510-I94-Data-2016/*.sas7bdat'\n",
    "immigration_data = '../../data/18-83510-I94-Data-2016/i94_aug16_sub.sas7bdat'"
   ]
  },
  {
   "cell_type": "code",
   "execution_count": 21,
   "metadata": {
    "editable": true
   },
   "outputs": [],
   "source": [
    "# Creating dictionary of i94port which are of valid format for june month\n",
    "re_compile_obj = re.compile(r'\\'(.*)\\'.*\\'(.*)\\'')\n",
    "valid_i94port = {}\n",
    "with open('valid_194port.txt') as f:\n",
    "     for line in f:\n",
    "            match = re_compile_obj.search(line)\n",
    "            valid_i94port[match[1]]=[match[2]]"
   ]
  },
  {
   "cell_type": "code",
   "execution_count": 22,
   "metadata": {
    "editable": true
   },
   "outputs": [
    {
     "name": "stdout",
     "output_type": "stream",
     "text": [
      "root\n",
      " |-- cicid: double (nullable = true)\n",
      " |-- i94yr: double (nullable = true)\n",
      " |-- i94mon: double (nullable = true)\n",
      " |-- i94cit: double (nullable = true)\n",
      " |-- i94res: double (nullable = true)\n",
      " |-- i94port: string (nullable = true)\n",
      " |-- arrdate: double (nullable = true)\n",
      " |-- i94mode: double (nullable = true)\n",
      " |-- i94addr: string (nullable = true)\n",
      " |-- depdate: double (nullable = true)\n",
      " |-- i94bir: double (nullable = true)\n",
      " |-- i94visa: double (nullable = true)\n",
      " |-- count: double (nullable = true)\n",
      " |-- dtadfile: string (nullable = true)\n",
      " |-- visapost: string (nullable = true)\n",
      " |-- entdepa: string (nullable = true)\n",
      " |-- entdepd: string (nullable = true)\n",
      " |-- matflag: string (nullable = true)\n",
      " |-- biryear: double (nullable = true)\n",
      " |-- dtaddto: string (nullable = true)\n",
      " |-- gender: string (nullable = true)\n",
      " |-- insnum: string (nullable = true)\n",
      " |-- airline: string (nullable = true)\n",
      " |-- admnum: double (nullable = true)\n",
      " |-- fltno: string (nullable = true)\n",
      " |-- visatype: string (nullable = true)\n",
      "\n"
     ]
    }
   ],
   "source": [
    "# # drop these columns\n",
    "# columns with over 90% missing values\n",
    "cols = ['entdepu','occup']\n",
    "\n",
    "df_new_immigration = df_immigration.drop(*cols)\n",
    "df_new_immigration.printSchema()"
   ]
  },
  {
   "cell_type": "code",
   "execution_count": 23,
   "metadata": {
    "editable": true
   },
   "outputs": [],
   "source": [
    "# drop rows with missing values\n",
    "df_new_immigration = df_new_immigration.dropDuplicates(['cicid'])\n",
    "\n",
    "df_new_immigration = df_new_immigration.dropna(how='all', subset=['cicid'])"
   ]
  },
  {
   "cell_type": "code",
   "execution_count": 24,
   "metadata": {
    "editable": true
   },
   "outputs": [],
   "source": [
    "immigration_dim = df_new_immigration.filter(df_new_immigration.i94port.isin(list(valid_i94port)))"
   ]
  },
  {
   "cell_type": "code",
   "execution_count": 25,
   "metadata": {
    "editable": true
   },
   "outputs": [
    {
     "name": "stdout",
     "output_type": "stream",
     "text": [
      "+-------+\n",
      "|i94port|\n",
      "+-------+\n",
      "|    MIA|\n",
      "|    WAS|\n",
      "|    AGA|\n",
      "|    SAI|\n",
      "|    SAI|\n",
      "|    AGA|\n",
      "|    DET|\n",
      "|    SAI|\n",
      "|    CHM|\n",
      "|    JKM|\n",
      "|    SAI|\n",
      "|    SAI|\n",
      "|    LOS|\n",
      "|    LEW|\n",
      "|    HOU|\n",
      "|    MIA|\n",
      "|    NYC|\n",
      "|    SWE|\n",
      "|    SAI|\n",
      "|    NYC|\n",
      "+-------+\n",
      "only showing top 20 rows\n",
      "\n"
     ]
    }
   ],
   "source": [
    "# selecting i94port column which contain only valid port\n",
    "immigration_dim.select([\"i94port\"]).show()"
   ]
  },
  {
   "cell_type": "code",
   "execution_count": 26,
   "metadata": {
    "editable": true
   },
   "outputs": [
    {
     "name": "stdout",
     "output_type": "stream",
     "text": [
      "+-------+------+------+------+------+-------+-------+-------+-------+-------+------+-------+-----+--------+--------+-------+-------+-------+-------+--------+------+------+-------+---------------+-----+--------+\n",
      "|  cicid| i94yr|i94mon|i94cit|i94res|i94port|arrdate|i94mode|i94addr|depdate|i94bir|i94visa|count|dtadfile|visapost|entdepa|entdepd|matflag|biryear| dtaddto|gender|insnum|airline|         admnum|fltno|visatype|\n",
      "+-------+------+------+------+------+-------+-------+-------+-------+-------+------+-------+-----+--------+--------+-------+-------+-------+-------+--------+------+------+-------+---------------+-----+--------+\n",
      "|  299.0|2016.0|   8.0| 117.0| 117.0|    MIA|20667.0|    1.0|   null|20668.0|  57.0|    2.0|  1.0|20160801|    null|      H|      O|      M| 1959.0|10122016|     M|  null|     YX|6.3985433533E10| 4366|      WT|\n",
      "|  596.0|2016.0|   8.0| 135.0| 135.0|    WAS|20667.0|    1.0|     VA|20668.0|  43.0|    1.0|  1.0|20160802|    null|      G|      G|      M| 1973.0|    null|     M|178201|     UA|6.1699573033E10| 4578|      WB|\n",
      "| 1051.0|2016.0|   8.0| 209.0| 209.0|    AGA|20667.0|    1.0|     GU|   null|  38.0|    2.0|  1.0|20160801|    null|      A|   null|   null| 1978.0|09152016|     F|  3703|     DL|5.7533857433E10|00473|     GMT|\n",
      "| 1761.0|2016.0|   8.0| 254.0| 276.0|    SAI|20667.0|    1.0|   null|20670.0|   5.0|    2.0|  1.0|20160801|    null|      A|      D|      M| 2011.0|09142016|     F|  3983|     OZ|4.6194005033E10|00625|     GMT|\n",
      "| 2734.0|2016.0|   8.0| 209.0| 209.0|    SAI|20667.0|    1.0|     IL|   null|  18.0|    1.0|  1.0|20160801|     OSK|      A|   null|   null| 1998.0|12312016|     M|  3983|     OZ|4.5565079133E10|00625|      E2|\n",
      "| 2862.0|2016.0|   8.0| 254.0| 276.0|    AGA|20667.0|    1.0|     GU|   null|  65.0|    2.0|  1.0|20160801|    null|      A|   null|   null| 1951.0|09152016|     F|  3945|     7C|4.5192207633E10|03154|     GMT|\n",
      "| 3597.0|2016.0|   8.0| 126.0| 126.0|    DET|20667.0|    3.0|     MI|   null|  13.0|    2.0|  1.0|20160801|    null|      Z|   null|   null| 2003.0|10292016|     M|  null|   null|4.3864498533E10| LAND|      WT|\n",
      "| 3901.0|2016.0|   8.0| 245.0| 245.0|    SAI|20667.0|    1.0|     FL|20671.0|  38.0|    2.0|  1.0|20160801|    null|      P|      D|      M| 1978.0|08122016|     F|  3882|     3U|4.1716057333E10|08647|      CP|\n",
      "| 3980.0|2016.0|   8.0| 111.0| 111.0|    CHM|20667.0|    3.0|     MA|20677.0|  38.0|    2.0|  1.0|20160812|    null|      Z|      K|      M| 1978.0|10292016|     F| 26303|   null|4.2364181033E10| null|      WT|\n",
      "| 4800.0|2016.0|   8.0| 111.0| 111.0|    JKM|20667.0|    3.0|     NY|20674.0|  47.0|    2.0|  1.0|20160808|    null|      Z|      K|      M| 1969.0|10292016|     F|  2845|   null|4.2286893033E10| null|      WT|\n",
      "| 6433.0|2016.0|   8.0| 245.0| 245.0|    SAI|20667.0|    1.0|     CA|20671.0|  16.0|    2.0|  1.0|20160801|    null|      P|      D|      M| 2000.0|08122016|     F|  3880|     2D|  8.386610028E9|00320|      CP|\n",
      "| 6454.0|2016.0|   8.0| 245.0| 245.0|    SAI|20667.0|    1.0|   null|20671.0|  26.0|    2.0|  1.0|20160801|    null|      P|      D|      M| 1990.0|08122016|     F|  3868|     2D|  8.386632028E9|00320|      CP|\n",
      "| 9923.0|2016.0|   8.0| 582.0| 582.0|    LOS|20667.0|    1.0|     CA|20671.0|  37.0|    1.0|  1.0|20160801|    null|      K|      O|      M| 1979.0|02012017|     M|  null|     AM| 1.743984834E10|00642|      B1|\n",
      "|11935.0|2016.0|   8.0| 245.0| 245.0|    LEW|20667.0|    3.0|     NY|20670.0|  49.0|    2.0|  1.0|20160801|     SNY|      Z|      O|      M| 1967.0|01182017|     M|  null|   null| 1.734059354E10| LAND|      B2|\n",
      "|12172.0|2016.0|   8.0| 582.0| 582.0|    HOU|20667.0|    1.0|     TE|20683.0|  45.0|    1.0|  1.0|20160801|    null|      K|      O|      M| 1971.0|08012018|     M|  null|     AM| 1.744025534E10|00418|      E2|\n",
      "|12467.0|2016.0|   8.0| 582.0| 582.0|    MIA|20667.0|    1.0|     FL|20761.0|  45.0|    1.0|  1.0|20160801|    null|      K|      O|      M| 1971.0|02012017|     M|  null|     4O| 1.744030584E10|04966|      B1|\n",
      "|12671.0|2016.0|   8.0| 582.0| 582.0|    NYC|20667.0|    1.0|     NU|20673.0|  21.0|    2.0|  1.0|20160801|    null|      K|      O|      M| 1995.0|02012017|     M|  null|     AM| 1.743876304E10|00408|      B2|\n",
      "|13533.0|2016.0|   8.0| 135.0| 135.0|    SWE|20667.0|    3.0|     ID|20672.0|  36.0|    2.0|  1.0|20160806|    null|      Z|      K|      M| 1980.0|10292016|     F|300096|   null|1.7565281427E10| null|      WT|\n",
      "|13607.0|2016.0|   8.0| 245.0| 245.0|    SAI|20667.0|    1.0|     NY|20670.0|  19.0|    2.0|  1.0|20160801|    null|      P|      D|      M| 1997.0|08112016|     F|  3882|     HX|  6.508163027E9|00076|      CP|\n",
      "|13918.0|2016.0|   8.0| 582.0| 582.0|    NYC|20667.0|    1.0|     NY|20669.0|  53.0|    2.0|  1.0|20160801|     MEX|      H|      O|      M| 1963.0|12202016|     M|  null|     QK| 9.965480713E10| 8662|      B2|\n",
      "+-------+------+------+------+------+-------+-------+-------+-------+-------+------+-------+-----+--------+--------+-------+-------+-------+-------+--------+------+------+-------+---------------+-----+--------+\n",
      "only showing top 20 rows\n",
      "\n"
     ]
    }
   ],
   "source": [
    "# Create immigration dimentional table\n",
    "immigration_dim.show()"
   ]
  },
  {
   "cell_type": "code",
   "execution_count": 27,
   "metadata": {
    "editable": true
   },
   "outputs": [],
   "source": [
    "# writing data to separet folder in parquet formate and partition by i94port and i94month\n",
    "immigration_dim.write.mode(\"append\").partitionBy(\"i94port\").parquet(\"/results/immigration.parquet\")"
   ]
  },
  {
   "cell_type": "code",
   "execution_count": 28,
   "metadata": {
    "editable": true
   },
   "outputs": [],
   "source": [
    "@udf\n",
    "def get_column(city):\n",
    "    for key in valid_i94port:\n",
    "        if key.lower() in valid_i94port[key][0].lower():\n",
    "            return key"
   ]
  },
  {
   "cell_type": "code",
   "execution_count": 29,
   "metadata": {
    "editable": true
   },
   "outputs": [
    {
     "name": "stdout",
     "output_type": "stream",
     "text": [
      "+-------------------+-------------------+-----+-------+--------+---------+-------+\n",
      "|                 dt| AverageTemperature| City|Country|Latitude|Longitude|i94port|\n",
      "+-------------------+-------------------+-----+-------+--------+---------+-------+\n",
      "|1743-11-01 00:00:00|              6.068|Århus|Denmark|  57.05N|   10.33E|    ALC|\n",
      "|1743-12-01 00:00:00|               null|Århus|Denmark|  57.05N|   10.33E|    ALC|\n",
      "|1744-01-01 00:00:00|               null|Århus|Denmark|  57.05N|   10.33E|    ALC|\n",
      "|1744-02-01 00:00:00|               null|Århus|Denmark|  57.05N|   10.33E|    ALC|\n",
      "|1744-03-01 00:00:00|               null|Århus|Denmark|  57.05N|   10.33E|    ALC|\n",
      "|1744-04-01 00:00:00| 5.7879999999999985|Århus|Denmark|  57.05N|   10.33E|    ALC|\n",
      "|1744-05-01 00:00:00|             10.644|Århus|Denmark|  57.05N|   10.33E|    ALC|\n",
      "|1744-06-01 00:00:00| 14.050999999999998|Århus|Denmark|  57.05N|   10.33E|    ALC|\n",
      "|1744-07-01 00:00:00|             16.082|Århus|Denmark|  57.05N|   10.33E|    ALC|\n",
      "|1744-08-01 00:00:00|               null|Århus|Denmark|  57.05N|   10.33E|    ALC|\n",
      "|1744-09-01 00:00:00| 12.780999999999999|Århus|Denmark|  57.05N|   10.33E|    ALC|\n",
      "|1744-10-01 00:00:00|               7.95|Århus|Denmark|  57.05N|   10.33E|    ALC|\n",
      "|1744-11-01 00:00:00|  4.638999999999999|Århus|Denmark|  57.05N|   10.33E|    ALC|\n",
      "|1744-12-01 00:00:00|0.12199999999999987|Århus|Denmark|  57.05N|   10.33E|    ALC|\n",
      "|1745-01-01 00:00:00|-1.3330000000000002|Århus|Denmark|  57.05N|   10.33E|    ALC|\n",
      "|1745-02-01 00:00:00|             -2.732|Århus|Denmark|  57.05N|   10.33E|    ALC|\n",
      "|1745-03-01 00:00:00|              0.129|Århus|Denmark|  57.05N|   10.33E|    ALC|\n",
      "|1745-04-01 00:00:00|              4.042|Århus|Denmark|  57.05N|   10.33E|    ALC|\n",
      "|1745-05-01 00:00:00|               null|Århus|Denmark|  57.05N|   10.33E|    ALC|\n",
      "|1745-06-01 00:00:00|               null|Århus|Denmark|  57.05N|   10.33E|    ALC|\n",
      "+-------------------+-------------------+-----+-------+--------+---------+-------+\n",
      "only showing top 20 rows\n",
      "\n"
     ]
    }
   ],
   "source": [
    "# Adding column i94port to temperature_dim table\n",
    "temperature_dim = df_temp.withColumn(\"i94port\", get_column(df_temp.City))\n",
    "temperature_dim = temperature_dim.drop('AverageTemperatureUncertainty')\n",
    "temperature_dim.show()"
   ]
  },
  {
   "cell_type": "code",
   "execution_count": 30,
   "metadata": {
    "editable": true
   },
   "outputs": [
    {
     "data": {
      "text/plain": [
       "3490"
      ]
     },
     "execution_count": 30,
     "metadata": {},
     "output_type": "execute_result"
    }
   ],
   "source": [
    "temperature_dim = temperature_dim.dropDuplicates(['City', 'Country'])\n",
    "temperature_dim.count()"
   ]
  },
  {
   "cell_type": "code",
   "execution_count": 31,
   "metadata": {
    "editable": true
   },
   "outputs": [
    {
     "name": "stdout",
     "output_type": "stream",
     "text": [
      "+-------------------+--------------------+------------+------------------+--------+---------+-------+\n",
      "|                 dt|  AverageTemperature|        City|           Country|Latitude|Longitude|i94port|\n",
      "+-------------------+--------------------+------------+------------------+--------+---------+-------+\n",
      "|1743-11-01 00:00:00|               3.264|   Allentown|     United States|  40.99N|   74.56W|    ALC|\n",
      "|1779-11-01 00:00:00|0.011999999999999985|      Atyrau|        Kazakhstan|  47.42N|   50.92E|    ALC|\n",
      "|1825-01-01 00:00:00|  26.069000000000003|     Bintulu|          Malaysia|   2.41N|  113.30E|    ALC|\n",
      "|1825-01-01 00:00:00|              26.517| Butterworth|          Malaysia|   5.63N|  100.09E|    ALC|\n",
      "|1845-01-01 00:00:00|              24.995|      Cainta|       Philippines|  15.27N|  120.83E|    ALC|\n",
      "|1825-01-01 00:00:00|              24.753|      Ciamis|         Indonesia|   7.23S|  107.84E|    ALC|\n",
      "|1850-01-01 00:00:00|              22.121|      Dodoma|          Tanzania|   5.63S|   35.52E|    ALC|\n",
      "|1840-01-01 00:00:00|  6.2250000000000005|      Fuling|             China|  29.74N|  107.08E|    ALC|\n",
      "|1841-01-01 00:00:00| -0.3360000000000001|      Fuyang|             China|  32.95N|  115.85E|    ALC|\n",
      "|1856-01-01 00:00:00|              26.901|         Ife|           Nigeria|   7.23N|    4.05E|    ALC|\n",
      "|1796-01-01 00:00:00|  14.427999999999999|  Jhunjhunun|             India|  28.13N|   75.45E|    ALC|\n",
      "|1857-01-01 00:00:00|               25.32|      Maxixe|        Mozambique|  23.31S|   35.83E|    ALC|\n",
      "|1856-01-01 00:00:00|  26.555000000000003|      Owerri|           Nigeria|   5.63N|    6.46E|    ALC|\n",
      "|1824-01-01 00:00:00|  24.958000000000002|Puerto Plata|Dominican Republic|  20.09N|   69.95W|    ALC|\n",
      "|1832-01-01 00:00:00|              22.288| Santo André|            Brazil|  23.31S|   46.31W|    ALC|\n",
      "|1857-01-01 00:00:00|  18.581000000000003|      Soweto|      South Africa|  26.52S|   28.66E|    ALC|\n",
      "|1825-01-01 00:00:00|              25.862|    Sukabumi|         Indonesia|   7.23S|  106.22E|    ALC|\n",
      "|1743-11-01 00:00:00|               7.084|    Toulouse|            France|  44.20N|    2.24E|    ALC|\n",
      "|1835-01-01 00:00:00|              13.086|  Tulancingo|            Mexico|  20.09N|   98.96W|    ALC|\n",
      "|1849-01-01 00:00:00|  26.531999999999996|      Anyama|     Côte D'Ivoire|   5.63N|    4.84W|    ALC|\n",
      "+-------------------+--------------------+------------+------------------+--------+---------+-------+\n",
      "only showing top 20 rows\n",
      "\n"
     ]
    }
   ],
   "source": [
    "temperature_dim = temperature_dim.dropna(how='all')\n",
    "temperature_dim.show()"
   ]
  },
  {
   "cell_type": "code",
   "execution_count": 32,
   "metadata": {
    "editable": true
   },
   "outputs": [
    {
     "name": "stdout",
     "output_type": "stream",
     "text": [
      "+-------------------+--------------------+------------+------------------+--------+---------+-------+\n",
      "|                 dt|  AverageTemperature|        city|           Country|Latitude|Longitude|i94port|\n",
      "+-------------------+--------------------+------------+------------------+--------+---------+-------+\n",
      "|1743-11-01 00:00:00|               3.264|   Allentown|     United States|  40.99N|   74.56W|    ALC|\n",
      "|1779-11-01 00:00:00|0.011999999999999985|      Atyrau|        Kazakhstan|  47.42N|   50.92E|    ALC|\n",
      "|1825-01-01 00:00:00|  26.069000000000003|     Bintulu|          Malaysia|   2.41N|  113.30E|    ALC|\n",
      "|1825-01-01 00:00:00|              26.517| Butterworth|          Malaysia|   5.63N|  100.09E|    ALC|\n",
      "|1845-01-01 00:00:00|              24.995|      Cainta|       Philippines|  15.27N|  120.83E|    ALC|\n",
      "|1825-01-01 00:00:00|              24.753|      Ciamis|         Indonesia|   7.23S|  107.84E|    ALC|\n",
      "|1850-01-01 00:00:00|              22.121|      Dodoma|          Tanzania|   5.63S|   35.52E|    ALC|\n",
      "|1840-01-01 00:00:00|  6.2250000000000005|      Fuling|             China|  29.74N|  107.08E|    ALC|\n",
      "|1841-01-01 00:00:00| -0.3360000000000001|      Fuyang|             China|  32.95N|  115.85E|    ALC|\n",
      "|1856-01-01 00:00:00|              26.901|         Ife|           Nigeria|   7.23N|    4.05E|    ALC|\n",
      "|1796-01-01 00:00:00|  14.427999999999999|  Jhunjhunun|             India|  28.13N|   75.45E|    ALC|\n",
      "|1857-01-01 00:00:00|               25.32|      Maxixe|        Mozambique|  23.31S|   35.83E|    ALC|\n",
      "|1856-01-01 00:00:00|  26.555000000000003|      Owerri|           Nigeria|   5.63N|    6.46E|    ALC|\n",
      "|1824-01-01 00:00:00|  24.958000000000002|Puerto Plata|Dominican Republic|  20.09N|   69.95W|    ALC|\n",
      "|1832-01-01 00:00:00|              22.288| Santo André|            Brazil|  23.31S|   46.31W|    ALC|\n",
      "|1857-01-01 00:00:00|  18.581000000000003|      Soweto|      South Africa|  26.52S|   28.66E|    ALC|\n",
      "|1825-01-01 00:00:00|              25.862|    Sukabumi|         Indonesia|   7.23S|  106.22E|    ALC|\n",
      "|1743-11-01 00:00:00|               7.084|    Toulouse|            France|  44.20N|    2.24E|    ALC|\n",
      "|1835-01-01 00:00:00|              13.086|  Tulancingo|            Mexico|  20.09N|   98.96W|    ALC|\n",
      "|1849-01-01 00:00:00|  26.531999999999996|      Anyama|     Côte D'Ivoire|   5.63N|    4.84W|    ALC|\n",
      "+-------------------+--------------------+------------+------------------+--------+---------+-------+\n",
      "only showing top 20 rows\n",
      "\n"
     ]
    }
   ],
   "source": [
    "temperature_dim = temperature_dim.withColumnRenamed(\"City\",\"city\")\n",
    "temperature_dim.show()"
   ]
  },
  {
   "cell_type": "code",
   "execution_count": 33,
   "metadata": {
    "editable": true
   },
   "outputs": [
    {
     "data": {
      "text/plain": [
       "3490"
      ]
     },
     "execution_count": 33,
     "metadata": {},
     "output_type": "execute_result"
    }
   ],
   "source": [
    "temperature_dim.count()"
   ]
  },
  {
   "cell_type": "code",
   "execution_count": 34,
   "metadata": {
    "editable": true
   },
   "outputs": [],
   "source": [
    "# writing table to parquet formate\n",
    "temperature_dim.write.mode(\"append\").partitionBy(\"i94port\").parquet(\"/results/temperature.parquet\")"
   ]
  },
  {
   "cell_type": "code",
   "execution_count": 35,
   "metadata": {
    "editable": true
   },
   "outputs": [
    {
     "data": {
      "text/plain": [
       "2891"
      ]
     },
     "execution_count": 35,
     "metadata": {},
     "output_type": "execute_result"
    }
   ],
   "source": [
    "demographics_dim = df_demographic.select(col(\"City\").alias(\"city\"), col(\"State\").alias(\"state\"), col(\"Male Population\").alias(\"male_population\"), col(\"Female Population\").alias(\"female_population\"), col(\"Average Household Size\").alias(\"average_household_size\"))\n",
    "demographics_dim.dropDuplicates([\"City\",\"State\"])\n",
    "demographics_dim.count()"
   ]
  },
  {
   "cell_type": "code",
   "execution_count": 36,
   "metadata": {
    "editable": true
   },
   "outputs": [
    {
     "name": "stdout",
     "output_type": "stream",
     "text": [
      "+----------------+--------------+---------------+-----------------+----------------------+\n",
      "|            city|         state|male_population|female_population|average_household_size|\n",
      "+----------------+--------------+---------------+-----------------+----------------------+\n",
      "|   Silver Spring|      Maryland|          40601|            41862|                   2.6|\n",
      "|          Quincy| Massachusetts|          44129|            49500|                  2.39|\n",
      "|          Hoover|       Alabama|          38040|            46799|                  2.58|\n",
      "|Rancho Cucamonga|    California|          88127|            87105|                  3.18|\n",
      "|          Newark|    New Jersey|         138040|           143873|                  2.73|\n",
      "|          Peoria|      Illinois|          56229|            62432|                   2.4|\n",
      "|        Avondale|       Arizona|          38712|            41971|                  3.18|\n",
      "|     West Covina|    California|          51629|            56860|                  3.56|\n",
      "|        O'Fallon|      Missouri|          41762|            43270|                  2.77|\n",
      "|      High Point|North Carolina|          51751|            58077|                  2.65|\n",
      "|          Folsom|    California|          41051|            35317|                  2.62|\n",
      "|          Folsom|    California|          41051|            35317|                  2.62|\n",
      "|    Philadelphia|  Pennsylvania|         741270|           826172|                  2.61|\n",
      "|         Wichita|        Kansas|         192354|           197601|                  2.56|\n",
      "|         Wichita|        Kansas|         192354|           197601|                  2.56|\n",
      "|      Fort Myers|       Florida|          36850|            37165|                  2.45|\n",
      "|      Pittsburgh|  Pennsylvania|         149690|           154695|                  2.13|\n",
      "|          Laredo|         Texas|         124305|           131484|                  3.66|\n",
      "|        Berkeley|    California|          60142|            60829|                  2.35|\n",
      "|     Santa Clara|    California|          63278|            62938|                  2.75|\n",
      "+----------------+--------------+---------------+-----------------+----------------------+\n",
      "only showing top 20 rows\n",
      "\n"
     ]
    }
   ],
   "source": [
    "demographics_dim.show()"
   ]
  },
  {
   "cell_type": "code",
   "execution_count": 37,
   "metadata": {
    "editable": true
   },
   "outputs": [],
   "source": [
    "# writing data to results directory in parquet format\n",
    "demographics_dim.write.mode(\"append\").partitionBy(\"city\").parquet(\"/results/demographics.parquet\")"
   ]
  },
  {
   "cell_type": "code",
   "execution_count": 38,
   "metadata": {
    "editable": true
   },
   "outputs": [],
   "source": [
    "# Creating Fact table from Dimenstion tables which were created above\n",
    "\n",
    "# Create views for each table \n",
    "demographics_dim.createOrReplaceTempView(\"demographics_view\")\n",
    "temperature_dim.createOrReplaceTempView(\"temperature_view\")\n",
    "immigration_dim.createOrReplaceTempView(\"immigration_view\")"
   ]
  },
  {
   "cell_type": "code",
   "execution_count": 39,
   "metadata": {
    "editable": true
   },
   "outputs": [],
   "source": [
    "# Create immigration_temperature_table by joining immigration dimention table and temperature_table dimention table\n",
    "immigration_temperature_table = immigration_dim.join(temperature_dim, on=[\"i94port\"])"
   ]
  },
  {
   "cell_type": "code",
   "execution_count": 40,
   "metadata": {
    "editable": true
   },
   "outputs": [
    {
     "name": "stdout",
     "output_type": "stream",
     "text": [
      "+-------+--------+------+------+------+------+-------+-------+-------+-------+------+-------+-----+--------+--------+-------+-------+-------+-------+--------+------+------+-------+---------------+-----+--------+-------------------+--------------------+------------+------------------+--------+---------+\n",
      "|i94port|   cicid| i94yr|i94mon|i94cit|i94res|arrdate|i94mode|i94addr|depdate|i94bir|i94visa|count|dtadfile|visapost|entdepa|entdepd|matflag|biryear| dtaddto|gender|insnum|airline|         admnum|fltno|visatype|                 dt|  AverageTemperature|        city|           Country|Latitude|Longitude|\n",
      "+-------+--------+------+------+------+------+-------+-------+-------+-------+------+-------+-----+--------+--------+-------+-------+-------+-------+--------+------+------+-------+---------------+-----+--------+-------------------+--------------------+------------+------------------+--------+---------+\n",
      "|    ALC|508754.0|2016.0|   8.0| 148.0| 112.0|20669.0|    3.0|     AK|20677.0|  58.0|    2.0|  1.0|20160803|    null|      Z|      K|      M| 1958.0|10312016|     F|  null|   null|6.4421510133E10| LAND|      WT|1743-11-01 00:00:00|               3.264|   Allentown|     United States|  40.99N|   74.56W|\n",
      "|    ALC|508754.0|2016.0|   8.0| 148.0| 112.0|20669.0|    3.0|     AK|20677.0|  58.0|    2.0|  1.0|20160803|    null|      Z|      K|      M| 1958.0|10312016|     F|  null|   null|6.4421510133E10| LAND|      WT|1779-11-01 00:00:00|0.011999999999999985|      Atyrau|        Kazakhstan|  47.42N|   50.92E|\n",
      "|    ALC|508754.0|2016.0|   8.0| 148.0| 112.0|20669.0|    3.0|     AK|20677.0|  58.0|    2.0|  1.0|20160803|    null|      Z|      K|      M| 1958.0|10312016|     F|  null|   null|6.4421510133E10| LAND|      WT|1825-01-01 00:00:00|  26.069000000000003|     Bintulu|          Malaysia|   2.41N|  113.30E|\n",
      "|    ALC|508754.0|2016.0|   8.0| 148.0| 112.0|20669.0|    3.0|     AK|20677.0|  58.0|    2.0|  1.0|20160803|    null|      Z|      K|      M| 1958.0|10312016|     F|  null|   null|6.4421510133E10| LAND|      WT|1825-01-01 00:00:00|              26.517| Butterworth|          Malaysia|   5.63N|  100.09E|\n",
      "|    ALC|508754.0|2016.0|   8.0| 148.0| 112.0|20669.0|    3.0|     AK|20677.0|  58.0|    2.0|  1.0|20160803|    null|      Z|      K|      M| 1958.0|10312016|     F|  null|   null|6.4421510133E10| LAND|      WT|1845-01-01 00:00:00|              24.995|      Cainta|       Philippines|  15.27N|  120.83E|\n",
      "|    ALC|508754.0|2016.0|   8.0| 148.0| 112.0|20669.0|    3.0|     AK|20677.0|  58.0|    2.0|  1.0|20160803|    null|      Z|      K|      M| 1958.0|10312016|     F|  null|   null|6.4421510133E10| LAND|      WT|1825-01-01 00:00:00|              24.753|      Ciamis|         Indonesia|   7.23S|  107.84E|\n",
      "|    ALC|508754.0|2016.0|   8.0| 148.0| 112.0|20669.0|    3.0|     AK|20677.0|  58.0|    2.0|  1.0|20160803|    null|      Z|      K|      M| 1958.0|10312016|     F|  null|   null|6.4421510133E10| LAND|      WT|1850-01-01 00:00:00|              22.121|      Dodoma|          Tanzania|   5.63S|   35.52E|\n",
      "|    ALC|508754.0|2016.0|   8.0| 148.0| 112.0|20669.0|    3.0|     AK|20677.0|  58.0|    2.0|  1.0|20160803|    null|      Z|      K|      M| 1958.0|10312016|     F|  null|   null|6.4421510133E10| LAND|      WT|1840-01-01 00:00:00|  6.2250000000000005|      Fuling|             China|  29.74N|  107.08E|\n",
      "|    ALC|508754.0|2016.0|   8.0| 148.0| 112.0|20669.0|    3.0|     AK|20677.0|  58.0|    2.0|  1.0|20160803|    null|      Z|      K|      M| 1958.0|10312016|     F|  null|   null|6.4421510133E10| LAND|      WT|1841-01-01 00:00:00| -0.3360000000000001|      Fuyang|             China|  32.95N|  115.85E|\n",
      "|    ALC|508754.0|2016.0|   8.0| 148.0| 112.0|20669.0|    3.0|     AK|20677.0|  58.0|    2.0|  1.0|20160803|    null|      Z|      K|      M| 1958.0|10312016|     F|  null|   null|6.4421510133E10| LAND|      WT|1856-01-01 00:00:00|              26.901|         Ife|           Nigeria|   7.23N|    4.05E|\n",
      "|    ALC|508754.0|2016.0|   8.0| 148.0| 112.0|20669.0|    3.0|     AK|20677.0|  58.0|    2.0|  1.0|20160803|    null|      Z|      K|      M| 1958.0|10312016|     F|  null|   null|6.4421510133E10| LAND|      WT|1796-01-01 00:00:00|  14.427999999999999|  Jhunjhunun|             India|  28.13N|   75.45E|\n",
      "|    ALC|508754.0|2016.0|   8.0| 148.0| 112.0|20669.0|    3.0|     AK|20677.0|  58.0|    2.0|  1.0|20160803|    null|      Z|      K|      M| 1958.0|10312016|     F|  null|   null|6.4421510133E10| LAND|      WT|1857-01-01 00:00:00|               25.32|      Maxixe|        Mozambique|  23.31S|   35.83E|\n",
      "|    ALC|508754.0|2016.0|   8.0| 148.0| 112.0|20669.0|    3.0|     AK|20677.0|  58.0|    2.0|  1.0|20160803|    null|      Z|      K|      M| 1958.0|10312016|     F|  null|   null|6.4421510133E10| LAND|      WT|1856-01-01 00:00:00|  26.555000000000003|      Owerri|           Nigeria|   5.63N|    6.46E|\n",
      "|    ALC|508754.0|2016.0|   8.0| 148.0| 112.0|20669.0|    3.0|     AK|20677.0|  58.0|    2.0|  1.0|20160803|    null|      Z|      K|      M| 1958.0|10312016|     F|  null|   null|6.4421510133E10| LAND|      WT|1824-01-01 00:00:00|  24.958000000000002|Puerto Plata|Dominican Republic|  20.09N|   69.95W|\n",
      "|    ALC|508754.0|2016.0|   8.0| 148.0| 112.0|20669.0|    3.0|     AK|20677.0|  58.0|    2.0|  1.0|20160803|    null|      Z|      K|      M| 1958.0|10312016|     F|  null|   null|6.4421510133E10| LAND|      WT|1832-01-01 00:00:00|              22.288| Santo André|            Brazil|  23.31S|   46.31W|\n",
      "|    ALC|508754.0|2016.0|   8.0| 148.0| 112.0|20669.0|    3.0|     AK|20677.0|  58.0|    2.0|  1.0|20160803|    null|      Z|      K|      M| 1958.0|10312016|     F|  null|   null|6.4421510133E10| LAND|      WT|1857-01-01 00:00:00|  18.581000000000003|      Soweto|      South Africa|  26.52S|   28.66E|\n",
      "|    ALC|508754.0|2016.0|   8.0| 148.0| 112.0|20669.0|    3.0|     AK|20677.0|  58.0|    2.0|  1.0|20160803|    null|      Z|      K|      M| 1958.0|10312016|     F|  null|   null|6.4421510133E10| LAND|      WT|1825-01-01 00:00:00|              25.862|    Sukabumi|         Indonesia|   7.23S|  106.22E|\n",
      "|    ALC|508754.0|2016.0|   8.0| 148.0| 112.0|20669.0|    3.0|     AK|20677.0|  58.0|    2.0|  1.0|20160803|    null|      Z|      K|      M| 1958.0|10312016|     F|  null|   null|6.4421510133E10| LAND|      WT|1743-11-01 00:00:00|               7.084|    Toulouse|            France|  44.20N|    2.24E|\n",
      "|    ALC|508754.0|2016.0|   8.0| 148.0| 112.0|20669.0|    3.0|     AK|20677.0|  58.0|    2.0|  1.0|20160803|    null|      Z|      K|      M| 1958.0|10312016|     F|  null|   null|6.4421510133E10| LAND|      WT|1835-01-01 00:00:00|              13.086|  Tulancingo|            Mexico|  20.09N|   98.96W|\n",
      "|    ALC|508754.0|2016.0|   8.0| 148.0| 112.0|20669.0|    3.0|     AK|20677.0|  58.0|    2.0|  1.0|20160803|    null|      Z|      K|      M| 1958.0|10312016|     F|  null|   null|6.4421510133E10| LAND|      WT|1849-01-01 00:00:00|  26.531999999999996|      Anyama|     Côte D'Ivoire|   5.63N|    4.84W|\n",
      "+-------+--------+------+------+------+------+-------+-------+-------+-------+------+-------+-----+--------+--------+-------+-------+-------+-------+--------+------+------+-------+---------------+-----+--------+-------------------+--------------------+------------+------------------+--------+---------+\n",
      "only showing top 20 rows\n",
      "\n"
     ]
    }
   ],
   "source": [
    "immigration_temperature_table.show()"
   ]
  },
  {
   "cell_type": "code",
   "execution_count": 41,
   "metadata": {
    "editable": true
   },
   "outputs": [
    {
     "name": "stdout",
     "output_type": "stream",
     "text": [
      "root\n",
      " |-- i94port: string (nullable = true)\n",
      " |-- cicid: double (nullable = true)\n",
      " |-- i94yr: double (nullable = true)\n",
      " |-- i94mon: double (nullable = true)\n",
      " |-- i94cit: double (nullable = true)\n",
      " |-- i94res: double (nullable = true)\n",
      " |-- arrdate: double (nullable = true)\n",
      " |-- i94mode: double (nullable = true)\n",
      " |-- i94addr: string (nullable = true)\n",
      " |-- depdate: double (nullable = true)\n",
      " |-- i94bir: double (nullable = true)\n",
      " |-- i94visa: double (nullable = true)\n",
      " |-- count: double (nullable = true)\n",
      " |-- dtadfile: string (nullable = true)\n",
      " |-- visapost: string (nullable = true)\n",
      " |-- entdepa: string (nullable = true)\n",
      " |-- entdepd: string (nullable = true)\n",
      " |-- matflag: string (nullable = true)\n",
      " |-- biryear: double (nullable = true)\n",
      " |-- dtaddto: string (nullable = true)\n",
      " |-- gender: string (nullable = true)\n",
      " |-- insnum: string (nullable = true)\n",
      " |-- airline: string (nullable = true)\n",
      " |-- admnum: double (nullable = true)\n",
      " |-- fltno: string (nullable = true)\n",
      " |-- visatype: string (nullable = true)\n",
      " |-- dt: string (nullable = true)\n",
      " |-- AverageTemperature: double (nullable = true)\n",
      " |-- city: string (nullable = true)\n",
      " |-- Country: string (nullable = true)\n",
      " |-- Latitude: string (nullable = true)\n",
      " |-- Longitude: string (nullable = true)\n",
      "\n"
     ]
    }
   ],
   "source": [
    "immigration_temperature_table.printSchema()"
   ]
  },
  {
   "cell_type": "code",
   "execution_count": 42,
   "metadata": {
    "editable": true
   },
   "outputs": [
    {
     "name": "stdout",
     "output_type": "stream",
     "text": [
      "root\n",
      " |-- year: double (nullable = true)\n",
      " |-- month: double (nullable = true)\n",
      " |-- city_code: double (nullable = true)\n",
      " |-- city: string (nullable = true)\n",
      " |-- country: string (nullable = true)\n",
      " |-- i94port: string (nullable = true)\n",
      " |-- arrival_date: double (nullable = true)\n",
      " |-- travel_mode: double (nullable = true)\n",
      " |-- i94addr: string (nullable = true)\n",
      " |-- departure_date: double (nullable = true)\n",
      " |-- i94bir: double (nullable = true)\n",
      " |-- reason: double (nullable = true)\n",
      " |-- count: double (nullable = true)\n",
      " |-- dtadfile: string (nullable = true)\n",
      " |-- visapost: string (nullable = true)\n",
      " |-- arrival_flag: string (nullable = true)\n",
      " |-- departure_flag: string (nullable = true)\n",
      " |-- match_flag: string (nullable = true)\n",
      " |-- birth_year: double (nullable = true)\n",
      " |-- stay_until: string (nullable = true)\n",
      " |-- gender: string (nullable = true)\n",
      " |-- ins_num: string (nullable = true)\n",
      " |-- airline: string (nullable = true)\n",
      " |-- admission_number: double (nullable = true)\n",
      " |-- flight_number: string (nullable = true)\n",
      " |-- visatype: string (nullable = true)\n",
      " |-- averagetemperature: double (nullable = true)\n",
      " |-- latitude: string (nullable = true)\n",
      " |-- longitude: string (nullable = true)\n",
      "\n"
     ]
    }
   ],
   "source": [
    "# selecting required column for fact table changing column name to readable format\n",
    "fact_table = immigration_temperature_table.select(col(\"i94yr\").alias(\"year\"),\n",
    "                                                col(\"i94mon\").alias(\"month\"),\n",
    "                                                col(\"i94cit\").alias(\"city_code\"), \n",
    "                                                col(\"city\").alias(\"city\"),\n",
    "                                                col(\"Country\").alias(\"country\"),\n",
    "                                                col(\"i94port\").alias(\"i94port\"),\n",
    "                                                col(\"arrdate\").alias(\"arrival_date\"),\n",
    "                                                col(\"i94mode\").alias(\"travel_mode\"),\n",
    "                                                col(\"i94addr\").alias(\"i94addr\"),\n",
    "                                                col(\"depdate\").alias(\"departure_date\"),\n",
    "                                                col(\"i94bir\").alias(\"i94bir\"),\n",
    "                                                col(\"i94visa\").alias(\"reason\"),\n",
    "                                                col(\"count\").alias(\"count\"),\n",
    "                                                col(\"dtadfile\").alias(\"dtadfile\"),\n",
    "                                                col(\"visapost\").alias(\"visapost\"),\n",
    "                                                col(\"entdepa\").alias(\"arrival_flag\"),\n",
    "                                                col(\"entdepd\").alias(\"departure_flag\"),\n",
    "                                                col(\"matflag\").alias(\"match_flag\"),\n",
    "                                                col(\"biryear\").alias(\"birth_year\"),\n",
    "                                                col(\"dtaddto\").alias(\"stay_until\"),\n",
    "                                                col(\"gender\").alias(\"gender\"),\n",
    "                                                col(\"insnum\").alias(\"ins_num\"),\n",
    "                                                col(\"airline\").alias(\"airline\"),\n",
    "                                                col(\"admnum\").alias(\"admission_number\"),\n",
    "                                                col(\"fltno\").alias(\"flight_number\"),\n",
    "                                                col(\"visatype\").alias(\"visatype\"),\n",
    "                                                col(\"AverageTemperature\").alias(\"averagetemperature\"),\n",
    "                                                col(\"Latitude\").alias(\"latitude\"),\n",
    "                                                col(\"Longitude\").alias(\"longitude\")\n",
    "                                               )\n",
    "fact_table.printSchema()"
   ]
  },
  {
   "cell_type": "code",
   "execution_count": 43,
   "metadata": {
    "editable": true
   },
   "outputs": [
    {
     "name": "stdout",
     "output_type": "stream",
     "text": [
      "+------+-----+---------+------------+------------------+-------+------------+-----------+-------+--------------+------+------+-----+--------+--------+------------+--------------+----------+----------+----------+------+-------+-------+----------------+-------------+--------+--------------------+--------+---------+\n",
      "|  year|month|city_code|        city|           country|i94port|arrival_date|travel_mode|i94addr|departure_date|i94bir|reason|count|dtadfile|visapost|arrival_flag|departure_flag|match_flag|birth_year|stay_until|gender|ins_num|airline|admission_number|flight_number|visatype|  averagetemperature|latitude|longitude|\n",
      "+------+-----+---------+------------+------------------+-------+------------+-----------+-------+--------------+------+------+-----+--------+--------+------------+--------------+----------+----------+----------+------+-------+-------+----------------+-------------+--------+--------------------+--------+---------+\n",
      "|2016.0|  8.0|    148.0|   Allentown|     United States|    ALC|     20669.0|        3.0|     AK|       20677.0|  58.0|   2.0|  1.0|20160803|    null|           Z|             K|         M|    1958.0|  10312016|     F|   null|   null| 6.4421510133E10|         LAND|      WT|               3.264|  40.99N|   74.56W|\n",
      "|2016.0|  8.0|    148.0|      Atyrau|        Kazakhstan|    ALC|     20669.0|        3.0|     AK|       20677.0|  58.0|   2.0|  1.0|20160803|    null|           Z|             K|         M|    1958.0|  10312016|     F|   null|   null| 6.4421510133E10|         LAND|      WT|0.011999999999999985|  47.42N|   50.92E|\n",
      "|2016.0|  8.0|    148.0|     Bintulu|          Malaysia|    ALC|     20669.0|        3.0|     AK|       20677.0|  58.0|   2.0|  1.0|20160803|    null|           Z|             K|         M|    1958.0|  10312016|     F|   null|   null| 6.4421510133E10|         LAND|      WT|  26.069000000000003|   2.41N|  113.30E|\n",
      "|2016.0|  8.0|    148.0| Butterworth|          Malaysia|    ALC|     20669.0|        3.0|     AK|       20677.0|  58.0|   2.0|  1.0|20160803|    null|           Z|             K|         M|    1958.0|  10312016|     F|   null|   null| 6.4421510133E10|         LAND|      WT|              26.517|   5.63N|  100.09E|\n",
      "|2016.0|  8.0|    148.0|      Cainta|       Philippines|    ALC|     20669.0|        3.0|     AK|       20677.0|  58.0|   2.0|  1.0|20160803|    null|           Z|             K|         M|    1958.0|  10312016|     F|   null|   null| 6.4421510133E10|         LAND|      WT|              24.995|  15.27N|  120.83E|\n",
      "|2016.0|  8.0|    148.0|      Ciamis|         Indonesia|    ALC|     20669.0|        3.0|     AK|       20677.0|  58.0|   2.0|  1.0|20160803|    null|           Z|             K|         M|    1958.0|  10312016|     F|   null|   null| 6.4421510133E10|         LAND|      WT|              24.753|   7.23S|  107.84E|\n",
      "|2016.0|  8.0|    148.0|      Dodoma|          Tanzania|    ALC|     20669.0|        3.0|     AK|       20677.0|  58.0|   2.0|  1.0|20160803|    null|           Z|             K|         M|    1958.0|  10312016|     F|   null|   null| 6.4421510133E10|         LAND|      WT|              22.121|   5.63S|   35.52E|\n",
      "|2016.0|  8.0|    148.0|      Fuling|             China|    ALC|     20669.0|        3.0|     AK|       20677.0|  58.0|   2.0|  1.0|20160803|    null|           Z|             K|         M|    1958.0|  10312016|     F|   null|   null| 6.4421510133E10|         LAND|      WT|  6.2250000000000005|  29.74N|  107.08E|\n",
      "|2016.0|  8.0|    148.0|      Fuyang|             China|    ALC|     20669.0|        3.0|     AK|       20677.0|  58.0|   2.0|  1.0|20160803|    null|           Z|             K|         M|    1958.0|  10312016|     F|   null|   null| 6.4421510133E10|         LAND|      WT| -0.3360000000000001|  32.95N|  115.85E|\n",
      "|2016.0|  8.0|    148.0|         Ife|           Nigeria|    ALC|     20669.0|        3.0|     AK|       20677.0|  58.0|   2.0|  1.0|20160803|    null|           Z|             K|         M|    1958.0|  10312016|     F|   null|   null| 6.4421510133E10|         LAND|      WT|              26.901|   7.23N|    4.05E|\n",
      "|2016.0|  8.0|    148.0|  Jhunjhunun|             India|    ALC|     20669.0|        3.0|     AK|       20677.0|  58.0|   2.0|  1.0|20160803|    null|           Z|             K|         M|    1958.0|  10312016|     F|   null|   null| 6.4421510133E10|         LAND|      WT|  14.427999999999999|  28.13N|   75.45E|\n",
      "|2016.0|  8.0|    148.0|      Maxixe|        Mozambique|    ALC|     20669.0|        3.0|     AK|       20677.0|  58.0|   2.0|  1.0|20160803|    null|           Z|             K|         M|    1958.0|  10312016|     F|   null|   null| 6.4421510133E10|         LAND|      WT|               25.32|  23.31S|   35.83E|\n",
      "|2016.0|  8.0|    148.0|      Owerri|           Nigeria|    ALC|     20669.0|        3.0|     AK|       20677.0|  58.0|   2.0|  1.0|20160803|    null|           Z|             K|         M|    1958.0|  10312016|     F|   null|   null| 6.4421510133E10|         LAND|      WT|  26.555000000000003|   5.63N|    6.46E|\n",
      "|2016.0|  8.0|    148.0|Puerto Plata|Dominican Republic|    ALC|     20669.0|        3.0|     AK|       20677.0|  58.0|   2.0|  1.0|20160803|    null|           Z|             K|         M|    1958.0|  10312016|     F|   null|   null| 6.4421510133E10|         LAND|      WT|  24.958000000000002|  20.09N|   69.95W|\n",
      "|2016.0|  8.0|    148.0| Santo André|            Brazil|    ALC|     20669.0|        3.0|     AK|       20677.0|  58.0|   2.0|  1.0|20160803|    null|           Z|             K|         M|    1958.0|  10312016|     F|   null|   null| 6.4421510133E10|         LAND|      WT|              22.288|  23.31S|   46.31W|\n",
      "|2016.0|  8.0|    148.0|      Soweto|      South Africa|    ALC|     20669.0|        3.0|     AK|       20677.0|  58.0|   2.0|  1.0|20160803|    null|           Z|             K|         M|    1958.0|  10312016|     F|   null|   null| 6.4421510133E10|         LAND|      WT|  18.581000000000003|  26.52S|   28.66E|\n",
      "|2016.0|  8.0|    148.0|    Sukabumi|         Indonesia|    ALC|     20669.0|        3.0|     AK|       20677.0|  58.0|   2.0|  1.0|20160803|    null|           Z|             K|         M|    1958.0|  10312016|     F|   null|   null| 6.4421510133E10|         LAND|      WT|              25.862|   7.23S|  106.22E|\n",
      "|2016.0|  8.0|    148.0|    Toulouse|            France|    ALC|     20669.0|        3.0|     AK|       20677.0|  58.0|   2.0|  1.0|20160803|    null|           Z|             K|         M|    1958.0|  10312016|     F|   null|   null| 6.4421510133E10|         LAND|      WT|               7.084|  44.20N|    2.24E|\n",
      "|2016.0|  8.0|    148.0|  Tulancingo|            Mexico|    ALC|     20669.0|        3.0|     AK|       20677.0|  58.0|   2.0|  1.0|20160803|    null|           Z|             K|         M|    1958.0|  10312016|     F|   null|   null| 6.4421510133E10|         LAND|      WT|              13.086|  20.09N|   98.96W|\n",
      "|2016.0|  8.0|    148.0|      Anyama|     Côte D'Ivoire|    ALC|     20669.0|        3.0|     AK|       20677.0|  58.0|   2.0|  1.0|20160803|    null|           Z|             K|         M|    1958.0|  10312016|     F|   null|   null| 6.4421510133E10|         LAND|      WT|  26.531999999999996|   5.63N|    4.84W|\n",
      "+------+-----+---------+------------+------------------+-------+------------+-----------+-------+--------------+------+------+-----+--------+--------+------------+--------------+----------+----------+----------+------+-------+-------+----------------+-------------+--------+--------------------+--------+---------+\n",
      "only showing top 20 rows\n",
      "\n"
     ]
    }
   ],
   "source": [
    "fact_table.show()"
   ]
  },
  {
   "cell_type": "code",
   "execution_count": 44,
   "metadata": {
    "editable": true
   },
   "outputs": [
    {
     "data": {
      "text/plain": [
       "3556310"
      ]
     },
     "execution_count": 44,
     "metadata": {},
     "output_type": "execute_result"
    }
   ],
   "source": [
    "fact_table.count()"
   ]
  },
  {
   "cell_type": "code",
   "execution_count": 45,
   "metadata": {
    "editable": true
   },
   "outputs": [],
   "source": [
    "fact_table.write.mode(\"append\").partitionBy([\"i94port\",\"city\"]).parquet(\"/results/fact_table.parquet\")"
   ]
  },
  {
   "cell_type": "markdown",
   "metadata": {
    "editable": true
   },
   "source": [
    "#### 4.2 Data Quality Checks\n",
    "Explain the data quality checks you'll perform to ensure the pipeline ran as expected. These could include:\n",
    " * Integrity constraints on the relational database (e.g., unique key, data type, etc.)\n",
    " * Unit tests for the scripts to ensure they are doing the right thing\n",
    " * Source/Count checks to ensure completeness\n",
    " \n",
    "Run Quality Checks"
   ]
  },
  {
   "cell_type": "code",
   "execution_count": 46,
   "metadata": {
    "editable": true
   },
   "outputs": [],
   "source": [
    "def quality_check(df, description):\n",
    "    '''\n",
    "    Input: Spark dataframe, description of Spark datafram\n",
    "    Output: Print outcome of data quality check\n",
    "    '''\n",
    "    \n",
    "    result = df.count()\n",
    "    if result == 0:\n",
    "        print(\"Data quality check failed for {} with zero records\".format(description))\n",
    "    else:\n",
    "        print(\"Data quality check passed for {} with {} records\".format(description, result))\n",
    "    return 0"
   ]
  },
  {
   "cell_type": "code",
   "execution_count": 47,
   "metadata": {
    "editable": true
   },
   "outputs": [
    {
     "name": "stdout",
     "output_type": "stream",
     "text": [
      "Data quality check passed for immigration table with 4094950 records\n",
      "Data quality check passed for temperature table with 3490 records\n",
      "Data quality check passed for demographics table with 2891 records\n",
      "Data quality check passed for fact table with 3556310 records\n"
     ]
    },
    {
     "data": {
      "text/plain": [
       "0"
      ]
     },
     "execution_count": 47,
     "metadata": {},
     "output_type": "execute_result"
    }
   ],
   "source": [
    "# Perform data quality check\n",
    "quality_check(immigration_dim, \"immigration table\")\n",
    "quality_check(temperature_dim, \"temperature table\")\n",
    "quality_check(demographics_dim, \"demographics table\")\n",
    "quality_check(fact_table, \"fact table\")"
   ]
  },
  {
   "cell_type": "markdown",
   "metadata": {
    "editable": true
   },
   "source": [
    "#### 4.3 Data dictionary \n",
    "Create a data dictionary for your data model. For each field, provide a brief description of what the data is and where it came from. You can include the data dictionary in the notebook or in a separate file."
   ]
  },
  {
   "cell_type": "markdown",
   "metadata": {
    "editable": true
   },
   "source": [
    "#### Step 5: Complete Project Write Up\n",
    "* Clearly state the rationale for the choice of tools and technologies for the project.\n",
    "* Propose how often the data should be updated and why.\n",
    "* Write a description of how you would approach the problem differently under the following scenarios:\n",
    " * The data was increased by 100x.\n",
    " * The data populates a dashboard that must be updated on a daily basis by 7am every day.\n",
    " * The database needed to be accessed by 100+ people."
   ]
  },
  {
   "cell_type": "code",
   "execution_count": null,
   "metadata": {
    "editable": true
   },
   "outputs": [],
   "source": []
  },
  {
   "cell_type": "code",
   "execution_count": null,
   "metadata": {
    "editable": true
   },
   "outputs": [],
   "source": []
  },
  {
   "cell_type": "code",
   "execution_count": null,
   "metadata": {
    "editable": true
   },
   "outputs": [],
   "source": []
  },
  {
   "cell_type": "code",
   "execution_count": null,
   "metadata": {
    "editable": true
   },
   "outputs": [],
   "source": []
  },
  {
   "cell_type": "code",
   "execution_count": null,
   "metadata": {
    "editable": true
   },
   "outputs": [],
   "source": []
  },
  {
   "cell_type": "code",
   "execution_count": null,
   "metadata": {
    "editable": true
   },
   "outputs": [],
   "source": []
  }
 ],
 "metadata": {
  "kernelspec": {
   "display_name": "Python 3",
   "language": "python",
   "name": "python3"
  },
  "language_info": {
   "codemirror_mode": {
    "name": "ipython",
    "version": 3
   },
   "file_extension": ".py",
   "mimetype": "text/x-python",
   "name": "python",
   "nbconvert_exporter": "python",
   "pygments_lexer": "ipython3",
   "version": "3.6.3"
  }
 },
 "nbformat": 4,
 "nbformat_minor": 4
}
